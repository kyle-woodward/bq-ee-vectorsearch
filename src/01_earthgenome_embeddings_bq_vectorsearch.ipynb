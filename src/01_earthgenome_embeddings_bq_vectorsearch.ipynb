{
 "cells": [
  {
   "cell_type": "markdown",
   "id": "b5b7046e",
   "metadata": {},
   "source": [
    "## BigQuery ELT of EarthGenome Embeddings for Vector Search\n",
    "\n",
    "*Note: This notebook will create and consume resources on Google Cloud. Though it should be minimal, be mindful of cost and always delete resources after running demos.*\n",
    "\n",
    "In order to run this demo you will need Google Cloud IAM permissions to:\n",
    "* read, write, and create Cloud Storage objects\n",
    "* read, write, and create BigQuery resources\n",
    "\n",
    "Refer to [docs](https://cloud.google.com/iam/docs/roles-overview) for more info if you get a permissions-related error"
   ]
  },
  {
   "cell_type": "markdown",
   "id": "befee486",
   "metadata": {},
   "source": [
    "## Downloading Earthgenome Geoparquet's\n",
    "\n",
    "### Earth Genome has hosted it on Source.Coop - let's check how its organized -> [link](https://source.coop/repositories/earthgenome/earthindexembeddings/description)"
   ]
  },
  {
   "cell_type": "markdown",
   "id": "bb23f79c",
   "metadata": {},
   "source": [
    "### In [00_s2_tile_management.ipynb](./00_s2_tile_management.ipynb) we've already aggregated UTM tile IDs to country boundaries \n",
    "\n",
    "#### we'll use that JSON file to help us pull only the EG parquet files we need for a country.."
   ]
  },
  {
   "cell_type": "code",
   "execution_count": null,
   "id": "ef450efd",
   "metadata": {},
   "outputs": [
    {
     "name": "stdout",
     "output_type": "stream",
     "text": [
      "dict_keys(['Kenya'])\n"
     ]
    }
   ],
   "source": [
    "# Read in our country-tile JSON reference\n",
    "import os\n",
    "import json\n",
    "import geopandas as gpd\n",
    "tile_dict = json.load(open(\"../esa_grid/adm0_tiles_by_country.json\"))\n",
    "print(tile_dict.keys())"
   ]
  },
  {
   "cell_type": "code",
   "execution_count": 3,
   "id": "a29fd37b",
   "metadata": {},
   "outputs": [
    {
     "name": "stdout",
     "output_type": "stream",
     "text": [
      "89 S2 tiles covering Kenya\n",
      "36MWD\n",
      "36MWE\n",
      "36MXD\n",
      "36MXE\n",
      "36MYC\n",
      "36MYD\n",
      "36MYE\n",
      "36MZC\n",
      "36MZD\n",
      "36MZE\n",
      "36NWF\n",
      "36NXF\n",
      "36NXG\n",
      "36NXH\n",
      "36NXJ\n",
      "36NXK\n",
      "36NXL\n",
      "36NYF\n",
      "36NYG\n",
      "36NYH\n",
      "36NYJ\n",
      "36NYK\n",
      "36NYL\n",
      "36NZF\n",
      "36NZG\n",
      "36NZH\n",
      "36NZJ\n",
      "36NZK\n",
      "36NZL\n",
      "37MBS\n",
      "37MBT\n",
      "37MBU\n",
      "37MBV\n",
      "37MCR\n",
      "37MCS\n",
      "37MCT\n",
      "37MCU\n",
      "37MCV\n",
      "37MDQ\n",
      "37MDR\n",
      "37MDS\n",
      "37MDT\n",
      "37MDU\n",
      "37MDV\n",
      "37MEQ\n",
      "37MER\n",
      "37MES\n",
      "37MET\n",
      "37MEU\n",
      "37MEV\n",
      "37MFS\n",
      "37MFT\n",
      "37MFU\n",
      "37MFV\n",
      "37MGT\n",
      "37MGU\n",
      "37MGV\n",
      "37NBA\n",
      "37NBB\n",
      "37NBC\n",
      "37NBD\n",
      "37NBE\n",
      "37NBF\n",
      "37NCA\n",
      "37NCB\n",
      "37NCC\n",
      "37NCD\n",
      "37NCE\n",
      "37NDA\n",
      "37NDB\n",
      "37NDC\n",
      "37NDD\n",
      "37NDE\n",
      "37NEA\n",
      "37NEB\n",
      "37NEC\n",
      "37NED\n",
      "37NEE\n",
      "37NFA\n",
      "37NFB\n",
      "37NFC\n",
      "37NFD\n",
      "37NFE\n",
      "37NGA\n",
      "37NGB\n",
      "37NGC\n",
      "37NGD\n",
      "37NGE\n",
      "37NHE\n"
     ]
    }
   ],
   "source": [
    "country = \"Kenya\"\n",
    "tiles = tile_dict[country]\n",
    "tiles.sort()\n",
    "print(f\"{len(tiles)} S2 tiles covering {country}\")\n",
    "for t in tiles:\n",
    "    print(t)"
   ]
  },
  {
   "cell_type": "code",
   "execution_count": null,
   "id": "c8555160",
   "metadata": {},
   "outputs": [
    {
     "name": "stdout",
     "output_type": "stream",
     "text": [
      "aws s3 cp s3://earthgenome/earthindexembeddings/2024/36MWD_2024-01-01_2025-01-01.parquet ../embeddings/earthgenome/2024/36MWD_2024-01-01_2025-01-01.parquet --endpoint-url=https://data.source.coop\n"
     ]
    }
   ],
   "source": [
    "import subprocess\n",
    "\n",
    "dryrun=True\n",
    "\n",
    "for i,t in enumerate(tiles):\n",
    "    suffix = \"2024-01-01_2025-01-01.parquet\"\n",
    "    pattern = f\"s3://earthgenome/earthindexembeddings/2024/{t}_{suffix}\"\n",
    "    cmd = f\"aws s3 cp {pattern} ../embeddings/earthgenome/2024/{t}_{suffix} --endpoint-url=https://data.source.coop\"\n",
    "    if dryrun:\n",
    "\n",
    "        print(cmd)\n",
    "    else:\n",
    "        print(f\"Running {cmd}\")\n",
    "        try:\n",
    "            subprocess.run(cmd, shell=True, capture_output=True, check=True)\n",
    "        except subprocess.CalledProcessError as e:\n",
    "            print(f\"Error copying {t}: {e}\")\n",
    "            # If the file does not exist, we can skip it\n",
    "            if \"does not exist\" in e.stderr.decode():\n",
    "                print(f\"File {t} does not exist, skipping.\")\n",
    "                continue\n",
    "            else:\n",
    "                raise\n",
    "    # break\n"
   ]
  },
  {
   "cell_type": "markdown",
   "id": "effae846",
   "metadata": {},
   "source": [
    "Look at a geoparquet file"
   ]
  },
  {
   "cell_type": "code",
   "execution_count": 47,
   "id": "cfa0240f",
   "metadata": {},
   "outputs": [
    {
     "name": "stdout",
     "output_type": "stream",
     "text": [
      "88 files:\n",
      " ['36MYC_2024-01-01_2025-01-01.parquet', '37NBF_2024-01-01_2025-01-01.parquet', '36NZL_2024-01-01_2025-01-01.parquet', '36MWD_2024-01-01_2025-01-01.parquet', '36NXG_2024-01-01_2025-01-01.parquet', '37NBE_2024-01-01_2025-01-01.parquet', '36MZC_2024-01-01_2025-01-01.parquet', '37NFA_2024-01-01_2025-01-01.parquet', '36NXK_2024-01-01_2025-01-01.parquet', '37NEC_2024-01-01_2025-01-01.parquet', '36MWE_2024-01-01_2025-01-01.parquet', '37MDS_2024-01-01_2025-01-01.parquet', '37NCB_2024-01-01_2025-01-01.parquet', '37NDE_2024-01-01_2025-01-01.parquet', '37NFC_2024-01-01_2025-01-01.parquet', '37NCA_2024-01-01_2025-01-01.parquet', '37NDB_2024-01-01_2025-01-01.parquet', '37MCU_2024-01-01_2025-01-01.parquet', '37MCV_2024-01-01_2025-01-01.parquet', '37NDC_2024-01-01_2025-01-01.parquet', '37NGE_2024-01-01_2025-01-01.parquet', '37NBB_2024-01-01_2025-01-01.parquet', '37MDU_2024-01-01_2025-01-01.parquet', '37MFT_2024-01-01_2025-01-01.parquet', '37NGC_2024-01-01_2025-01-01.parquet', '37NEE_2024-01-01_2025-01-01.parquet', '37MBU_2024-01-01_2025-01-01.parquet', '36NXL_2024-01-01_2025-01-01.parquet', '37MBT_2024-01-01_2025-01-01.parquet', '37MCR_2024-01-01_2025-01-01.parquet', '37MEQ_2024-01-01_2025-01-01.parquet', '37MFV_2024-01-01_2025-01-01.parquet', '37NCC_2024-01-01_2025-01-01.parquet', '36NYL_2024-01-01_2025-01-01.parquet', '37NGD_2024-01-01_2025-01-01.parquet', '37NHE_2024-01-01_2025-01-01.parquet', '37NEB_2024-01-01_2025-01-01.parquet', '36NXJ_2024-01-01_2025-01-01.parquet', '36MYD_2024-01-01_2025-01-01.parquet', '36NYF_2024-01-01_2025-01-01.parquet', '37MEU_2024-01-01_2025-01-01.parquet', '37MER_2024-01-01_2025-01-01.parquet', '37MGU_2024-01-01_2025-01-01.parquet', '37MET_2024-01-01_2025-01-01.parquet', '37MGT_2024-01-01_2025-01-01.parquet', '36MZE_2024-01-01_2025-01-01.parquet', '37MCT_2024-01-01_2025-01-01.parquet', '36NYK_2024-01-01_2025-01-01.parquet', '37NFB_2024-01-01_2025-01-01.parquet', '36NYJ_2024-01-01_2025-01-01.parquet', '36NWF_2024-01-01_2025-01-01.parquet', '37NEA_2024-01-01_2025-01-01.parquet', '36NZG_2024-01-01_2025-01-01.parquet', '37MBV_2024-01-01_2025-01-01.parquet', '36NZJ_2024-01-01_2025-01-01.parquet', '37MCS_2024-01-01_2025-01-01.parquet', '37MDT_2024-01-01_2025-01-01.parquet', '37NGB_2024-01-01_2025-01-01.parquet', '37MFU_2024-01-01_2025-01-01.parquet', '37NGA_2024-01-01_2025-01-01.parquet', '37MES_2024-01-01_2025-01-01.parquet', '37NED_2024-01-01_2025-01-01.parquet', '37NDD_2024-01-01_2025-01-01.parquet', '36NYH_2024-01-01_2025-01-01.parquet', '37NBC_2024-01-01_2025-01-01.parquet', '37NBA_2024-01-01_2025-01-01.parquet', '37MDV_2024-01-01_2025-01-01.parquet', '37NCD_2024-01-01_2025-01-01.parquet', '36NXH_2024-01-01_2025-01-01.parquet', '36NZH_2024-01-01_2025-01-01.parquet', '37MBS_2024-01-01_2025-01-01.parquet', '36NYG_2024-01-01_2025-01-01.parquet', '36NXF_2024-01-01_2025-01-01.parquet', '37MFS_2024-01-01_2025-01-01.parquet', '36MZD_2024-01-01_2025-01-01.parquet', '36MXE_2024-01-01_2025-01-01.parquet', '36NZK_2024-01-01_2025-01-01.parquet', '36NZF_2024-01-01_2025-01-01.parquet', '37MDQ_2024-01-01_2025-01-01.parquet', '36MXD_2024-01-01_2025-01-01.parquet', '37MGV_2024-01-01_2025-01-01.parquet', '37NFD_2024-01-01_2025-01-01.parquet', '37MEV_2024-01-01_2025-01-01.parquet', '37NBD_2024-01-01_2025-01-01.parquet', '37NFE_2024-01-01_2025-01-01.parquet', '37NDA_2024-01-01_2025-01-01.parquet', '37NCE_2024-01-01_2025-01-01.parquet', '37MDR_2024-01-01_2025-01-01.parquet']\n",
      "../embeddings/earthgenome/2024/36MYC_2024-01-01_2025-01-01.parquet\n",
      "                  id                                          embedding  \\\n",
      "0  21366007873799028  [3.9650016, -0.11605559, 2.6853476, 0.9532832,...   \n",
      "1  21366007879053407  [3.7026942, -0.51008826, 2.9597056, 0.8809371,...   \n",
      "2  21366007878009376  [3.7739246, -0.26783928, 2.7427967, 0.9286483,...   \n",
      "3  21366053693449483  [3.7764716, -0.26413146, 2.6792426, 1.087442, ...   \n",
      "4  21366053692397092  [3.1870084, -0.44357517, 2.8016346, 1.1895823,...   \n",
      "\n",
      "                    geometry   tile  \n",
      "0    POINT (34.8013 -2.7984)  36MYC  \n",
      "1  POINT (34.80273 -2.79696)  36MYC  \n",
      "2   POINT (34.80417 -2.7984)  36MYC  \n",
      "3  POINT (34.80561 -2.79696)  36MYC  \n",
      "4   POINT (34.80705 -2.7984)  36MYC  \n"
     ]
    }
   ],
   "source": [
    "# look at one\n",
    "files = os.listdir(\"../embeddings/earthgenome/2024\")\n",
    "print(f\"{len(list(files))} files:\\n {files}\")\n",
    "file = os.path.join(\"../embeddings/earthgenome/2024\", files[0])\n",
    "print(file)\n",
    "df = gpd.read_parquet(file)\n",
    "print(df.head())\n"
   ]
  },
  {
   "cell_type": "markdown",
   "id": "66bddd0b",
   "metadata": {},
   "source": [
    "we'll add a tile column to help us stay organized"
   ]
  },
  {
   "cell_type": "code",
   "execution_count": 34,
   "id": "a90bbd87",
   "metadata": {},
   "outputs": [
    {
     "name": "stdout",
     "output_type": "stream",
     "text": [
      "Updated 36MYC_2024-01-01_2025-01-01.parquet with tile column.\n",
      "Updated 37NBF_2024-01-01_2025-01-01.parquet with tile column.\n",
      "Updated 36NZL_2024-01-01_2025-01-01.parquet with tile column.\n",
      "Updated 36MWD_2024-01-01_2025-01-01.parquet with tile column.\n",
      "Updated 36NXG_2024-01-01_2025-01-01.parquet with tile column.\n",
      "Updated 37NBE_2024-01-01_2025-01-01.parquet with tile column.\n",
      "Updated 36MZC_2024-01-01_2025-01-01.parquet with tile column.\n",
      "Updated 37NFA_2024-01-01_2025-01-01.parquet with tile column.\n",
      "Updated 36NXK_2024-01-01_2025-01-01.parquet with tile column.\n",
      "Updated 37NEC_2024-01-01_2025-01-01.parquet with tile column.\n",
      "Updated 36MWE_2024-01-01_2025-01-01.parquet with tile column.\n",
      "Updated 37MDS_2024-01-01_2025-01-01.parquet with tile column.\n",
      "Updated 37NCB_2024-01-01_2025-01-01.parquet with tile column.\n",
      "Updated 37NDE_2024-01-01_2025-01-01.parquet with tile column.\n",
      "Updated 37NFC_2024-01-01_2025-01-01.parquet with tile column.\n",
      "Updated 37NCA_2024-01-01_2025-01-01.parquet with tile column.\n",
      "Updated 37NDB_2024-01-01_2025-01-01.parquet with tile column.\n",
      "Updated 37MCU_2024-01-01_2025-01-01.parquet with tile column.\n",
      "Updated 37MCV_2024-01-01_2025-01-01.parquet with tile column.\n",
      "Updated 37NDC_2024-01-01_2025-01-01.parquet with tile column.\n",
      "Updated 37NGE_2024-01-01_2025-01-01.parquet with tile column.\n",
      "Updated 37NBB_2024-01-01_2025-01-01.parquet with tile column.\n",
      "Updated 37MDU_2024-01-01_2025-01-01.parquet with tile column.\n",
      "Updated 37MFT_2024-01-01_2025-01-01.parquet with tile column.\n",
      "Updated 37NGC_2024-01-01_2025-01-01.parquet with tile column.\n",
      "Updated 37NEE_2024-01-01_2025-01-01.parquet with tile column.\n",
      "Updated 37MBU_2024-01-01_2025-01-01.parquet with tile column.\n",
      "Updated 36NXL_2024-01-01_2025-01-01.parquet with tile column.\n",
      "Updated 37MBT_2024-01-01_2025-01-01.parquet with tile column.\n",
      "Updated 37MCR_2024-01-01_2025-01-01.parquet with tile column.\n",
      "Updated 37MEQ_2024-01-01_2025-01-01.parquet with tile column.\n",
      "Updated 37MFV_2024-01-01_2025-01-01.parquet with tile column.\n",
      "Updated 37NCC_2024-01-01_2025-01-01.parquet with tile column.\n",
      "Updated 36NYL_2024-01-01_2025-01-01.parquet with tile column.\n",
      "Updated 37NGD_2024-01-01_2025-01-01.parquet with tile column.\n",
      "Updated 37NHE_2024-01-01_2025-01-01.parquet with tile column.\n",
      "Updated 37NEB_2024-01-01_2025-01-01.parquet with tile column.\n",
      "Updated 36NXJ_2024-01-01_2025-01-01.parquet with tile column.\n",
      "Updated 36MYD_2024-01-01_2025-01-01.parquet with tile column.\n",
      "Updated 36NYF_2024-01-01_2025-01-01.parquet with tile column.\n",
      "Updated 37MEU_2024-01-01_2025-01-01.parquet with tile column.\n",
      "Updated 37MER_2024-01-01_2025-01-01.parquet with tile column.\n",
      "Updated 37MGU_2024-01-01_2025-01-01.parquet with tile column.\n",
      "Updated 37MET_2024-01-01_2025-01-01.parquet with tile column.\n",
      "Updated 37MGT_2024-01-01_2025-01-01.parquet with tile column.\n",
      "Updated 36MZE_2024-01-01_2025-01-01.parquet with tile column.\n",
      "Updated 37MCT_2024-01-01_2025-01-01.parquet with tile column.\n",
      "Updated 36NYK_2024-01-01_2025-01-01.parquet with tile column.\n",
      "Updated 37NFB_2024-01-01_2025-01-01.parquet with tile column.\n",
      "Updated 36NYJ_2024-01-01_2025-01-01.parquet with tile column.\n",
      "Updated 36NWF_2024-01-01_2025-01-01.parquet with tile column.\n",
      "Updated 37NEA_2024-01-01_2025-01-01.parquet with tile column.\n",
      "Updated 36NZG_2024-01-01_2025-01-01.parquet with tile column.\n",
      "Updated 37MBV_2024-01-01_2025-01-01.parquet with tile column.\n",
      "Updated 36NZJ_2024-01-01_2025-01-01.parquet with tile column.\n",
      "Updated 37MCS_2024-01-01_2025-01-01.parquet with tile column.\n",
      "Updated 37MDT_2024-01-01_2025-01-01.parquet with tile column.\n",
      "Updated 37NGB_2024-01-01_2025-01-01.parquet with tile column.\n",
      "Updated 37MFU_2024-01-01_2025-01-01.parquet with tile column.\n",
      "Updated 37NGA_2024-01-01_2025-01-01.parquet with tile column.\n",
      "Updated 37MES_2024-01-01_2025-01-01.parquet with tile column.\n",
      "Updated 37NED_2024-01-01_2025-01-01.parquet with tile column.\n",
      "Updated 37NDD_2024-01-01_2025-01-01.parquet with tile column.\n",
      "Updated 36NYH_2024-01-01_2025-01-01.parquet with tile column.\n",
      "Updated 37NBC_2024-01-01_2025-01-01.parquet with tile column.\n",
      "Updated 37NBA_2024-01-01_2025-01-01.parquet with tile column.\n",
      "Updated 37MDV_2024-01-01_2025-01-01.parquet with tile column.\n",
      "Updated 37NCD_2024-01-01_2025-01-01.parquet with tile column.\n",
      "Updated 36NXH_2024-01-01_2025-01-01.parquet with tile column.\n",
      "Updated 36NZH_2024-01-01_2025-01-01.parquet with tile column.\n",
      "Updated 37MBS_2024-01-01_2025-01-01.parquet with tile column.\n",
      "Updated 36NYG_2024-01-01_2025-01-01.parquet with tile column.\n",
      "Updated 36NXF_2024-01-01_2025-01-01.parquet with tile column.\n",
      "Updated 37MFS_2024-01-01_2025-01-01.parquet with tile column.\n",
      "Updated 36MZD_2024-01-01_2025-01-01.parquet with tile column.\n",
      "Updated 36MXE_2024-01-01_2025-01-01.parquet with tile column.\n",
      "Updated 36NZK_2024-01-01_2025-01-01.parquet with tile column.\n",
      "Updated 36NZF_2024-01-01_2025-01-01.parquet with tile column.\n",
      "Updated 37MDQ_2024-01-01_2025-01-01.parquet with tile column.\n",
      "Updated 36MXD_2024-01-01_2025-01-01.parquet with tile column.\n",
      "Updated 37MGV_2024-01-01_2025-01-01.parquet with tile column.\n",
      "Updated 37NFD_2024-01-01_2025-01-01.parquet with tile column.\n",
      "Updated 37MEV_2024-01-01_2025-01-01.parquet with tile column.\n",
      "Updated 37NBD_2024-01-01_2025-01-01.parquet with tile column.\n",
      "Updated 37NFE_2024-01-01_2025-01-01.parquet with tile column.\n",
      "Updated 37NDA_2024-01-01_2025-01-01.parquet with tile column.\n",
      "Updated 37NCE_2024-01-01_2025-01-01.parquet with tile column.\n",
      "Updated 37MDR_2024-01-01_2025-01-01.parquet with tile column.\n"
     ]
    }
   ],
   "source": [
    "# overwrite all files to add tile column\n",
    "for file in files:\n",
    "    file_path = os.path.join(\"../embeddings/earthgenome/2024\", file)\n",
    "    df = gpd.read_parquet(file_path)\n",
    "    df.loc[:,'tile'] = os.path.basename(file).split(\"_\")[0]\n",
    "    df.to_parquet(file_path, index=False)\n",
    "    print(f\"Updated {file} with tile column.\")\n"
   ]
  },
  {
   "cell_type": "code",
   "execution_count": 48,
   "id": "987cbb46",
   "metadata": {},
   "outputs": [
    {
     "name": "stdout",
     "output_type": "stream",
     "text": [
      "                  id                                          embedding  \\\n",
      "0  21363011648817723  [3.6608987, 0.4451008, 3.3323448, 1.6121677, 1...   \n",
      "1  21363011672943977  [3.8903985, 0.748016, 3.8796003, 1.3907712, 1....   \n",
      "2  21363011653017210  [3.4100828, 0.6301242, 3.1301181, 1.398467, 1....   \n",
      "3  21363011677153661  [3.1949708, 1.050448, 3.9431, 1.1274718, 1.851...   \n",
      "4  21363011665615662  [3.1119442, 0.5853041, 3.586332, 1.4484098, 1....   \n",
      "\n",
      "                    geometry   tile  \n",
      "0  POINT (38.10094 -4.60938)  37MDR  \n",
      "1  POINT (38.10238 -4.60794)  37MDR  \n",
      "2  POINT (38.10382 -4.60938)  37MDR  \n",
      "3  POINT (38.10526 -4.60794)  37MDR  \n",
      "4  POINT (38.10671 -4.60938)  37MDR  \n"
     ]
    }
   ],
   "source": [
    "print(gpd.read_parquet(file_path).head())"
   ]
  },
  {
   "cell_type": "markdown",
   "id": "4a4cd035",
   "metadata": {},
   "source": [
    "### Loading Data into BigQuery\n",
    "\n",
    "You'll need a GCS bucket and a BigQuery Dataset "
   ]
  },
  {
   "cell_type": "code",
   "execution_count": 36,
   "id": "c886aa1d",
   "metadata": {},
   "outputs": [],
   "source": [
    "# change to your GCS settings\n",
    "BUCKET = \"gs://embeddings-kenya\"\n",
    "PROJECT_ID = \"g4g-eaas\"\n",
    "LOCATION = \"us-central1\"\n",
    "DATASET_ID = \"embeddings_kenya\"\n",
    "TABLE_ID = \"earthgenome_kenya\""
   ]
  },
  {
   "cell_type": "code",
   "execution_count": null,
   "id": "92ef946d",
   "metadata": {},
   "outputs": [
    {
     "name": "stdout",
     "output_type": "stream",
     "text": [
      "Creating gs://embeddings-kenya/...\n",
      "\u001b[1;31mERROR:\u001b[0m (gcloud.storage.buckets.create) HTTPError 409: Your previous request to create the named bucket succeeded and you already own it.\n",
      "BigQuery error in mk operation: Dataset 'g4g-eaas:embeddings_kenya' already\n",
      "exists.\n"
     ]
    }
   ],
   "source": [
    "# create the storage bucket and BigQuery dataset \n",
    "!gcloud storage buckets create {BUCKET} --location {LOCATION} --project {PROJECT_ID}\n",
    "!bq mk -d --data_location={LOCATION} --project_id {PROJECT_ID} {DATASET_ID}  "
   ]
  },
  {
   "cell_type": "code",
   "execution_count": 38,
   "id": "a090991f",
   "metadata": {},
   "outputs": [
    {
     "name": "stdout",
     "output_type": "stream",
     "text": [
      "At file://../embeddings/earthgenome/2024/*, worker process 1285094 thread 130040955144000 listed 88...\n",
      "At gs://embeddings-kenya/earthgenome/2024/*, worker process 1285094 thread 130040955144000 listed 1...\n",
      "\u001b[1;33mWARNING:\u001b[0m Parallel composite upload was turned ON to get the best performance on\n",
      "uploading large objects. If you would like to opt-out and instead\n",
      "perform a normal upload, run:\n",
      "`gcloud config set storage/parallel_composite_upload_enabled False`\n",
      "If you would like to disable this warning, run:\n",
      "`gcloud config set storage/parallel_composite_upload_enabled True`\n",
      "Note that with parallel composite uploads, your object might be\n",
      "uploaded as a composite object\n",
      "(https://cloud.google.com/storage/docs/composite-objects), which means\n",
      "that any user who downloads your object will need to use crc32c\n",
      "checksums to verify data integrity. gcloud storage is capable of\n",
      "computing crc32c checksums, but this might pose a problem for other\n",
      "clients.\n",
      "\n",
      "Copying file://../embeddings/earthgenome/2024/36MWD_2024-01-01_2025-01-01.parquet to gs://embeddings-kenya/earthgenome/2024/36MWD_2024-01-01_2025-01-01.parquet\n",
      "Copying file://../embeddings/earthgenome/2024/36MWE_2024-01-01_2025-01-01.parquet to gs://embeddings-kenya/earthgenome/2024/36MWE_2024-01-01_2025-01-01.parquet\n",
      "Copying file://../embeddings/earthgenome/2024/36MXD_2024-01-01_2025-01-01.parquet to gs://embeddings-kenya/earthgenome/2024/36MXD_2024-01-01_2025-01-01.parquet\n",
      "Copying file://../embeddings/earthgenome/2024/36MXE_2024-01-01_2025-01-01.parquet to gs://embeddings-kenya/earthgenome/2024/36MXE_2024-01-01_2025-01-01.parquet\n",
      "Copying file://../embeddings/earthgenome/2024/36MYC_2024-01-01_2025-01-01.parquet to gs://embeddings-kenya/earthgenome/2024/36MYC_2024-01-01_2025-01-01.parquet\n",
      "Copying file://../embeddings/earthgenome/2024/36MYD_2024-01-01_2025-01-01.parquet to gs://embeddings-kenya/earthgenome/2024/36MYD_2024-01-01_2025-01-01.parquet\n",
      "Copying file://../embeddings/earthgenome/2024/36MZC_2024-01-01_2025-01-01.parquet to gs://embeddings-kenya/earthgenome/2024/36MZC_2024-01-01_2025-01-01.parquet\n",
      "Copying file://../embeddings/earthgenome/2024/36MZD_2024-01-01_2025-01-01.parquet to gs://embeddings-kenya/earthgenome/2024/36MZD_2024-01-01_2025-01-01.parquet\n",
      "Copying file://../embeddings/earthgenome/2024/36MZE_2024-01-01_2025-01-01.parquet to gs://embeddings-kenya/earthgenome/2024/36MZE_2024-01-01_2025-01-01.parquet\n",
      "Copying file://../embeddings/earthgenome/2024/36NWF_2024-01-01_2025-01-01.parquet to gs://embeddings-kenya/earthgenome/2024/36NWF_2024-01-01_2025-01-01.parquet\n",
      "Copying file://../embeddings/earthgenome/2024/36NXF_2024-01-01_2025-01-01.parquet to gs://embeddings-kenya/earthgenome/2024/36NXF_2024-01-01_2025-01-01.parquet\n",
      "Copying file://../embeddings/earthgenome/2024/36NXG_2024-01-01_2025-01-01.parquet to gs://embeddings-kenya/earthgenome/2024/36NXG_2024-01-01_2025-01-01.parquet\n",
      "Copying file://../embeddings/earthgenome/2024/36NXH_2024-01-01_2025-01-01.parquet to gs://embeddings-kenya/earthgenome/2024/36NXH_2024-01-01_2025-01-01.parquet\n",
      "Copying file://../embeddings/earthgenome/2024/36NXJ_2024-01-01_2025-01-01.parquet to gs://embeddings-kenya/earthgenome/2024/36NXJ_2024-01-01_2025-01-01.parquet\n",
      "Copying file://../embeddings/earthgenome/2024/36NXK_2024-01-01_2025-01-01.parquet to gs://embeddings-kenya/earthgenome/2024/36NXK_2024-01-01_2025-01-01.parquet\n",
      "Copying file://../embeddings/earthgenome/2024/36NXL_2024-01-01_2025-01-01.parquet to gs://embeddings-kenya/earthgenome/2024/36NXL_2024-01-01_2025-01-01.parquet\n",
      "Copying file://../embeddings/earthgenome/2024/36NYF_2024-01-01_2025-01-01.parquet to gs://embeddings-kenya/earthgenome/2024/36NYF_2024-01-01_2025-01-01.parquet\n",
      "Copying file://../embeddings/earthgenome/2024/36NYG_2024-01-01_2025-01-01.parquet to gs://embeddings-kenya/earthgenome/2024/36NYG_2024-01-01_2025-01-01.parquet\n",
      "Copying file://../embeddings/earthgenome/2024/36NYH_2024-01-01_2025-01-01.parquet to gs://embeddings-kenya/earthgenome/2024/36NYH_2024-01-01_2025-01-01.parquet\n",
      "Copying file://../embeddings/earthgenome/2024/36NYJ_2024-01-01_2025-01-01.parquet to gs://embeddings-kenya/earthgenome/2024/36NYJ_2024-01-01_2025-01-01.parquet\n",
      "Copying file://../embeddings/earthgenome/2024/36NYK_2024-01-01_2025-01-01.parquet to gs://embeddings-kenya/earthgenome/2024/36NYK_2024-01-01_2025-01-01.parquet\n",
      "Copying file://../embeddings/earthgenome/2024/36NYL_2024-01-01_2025-01-01.parquet to gs://embeddings-kenya/earthgenome/2024/36NYL_2024-01-01_2025-01-01.parquet\n",
      "Copying file://../embeddings/earthgenome/2024/36NZF_2024-01-01_2025-01-01.parquet to gs://embeddings-kenya/earthgenome/2024/36NZF_2024-01-01_2025-01-01.parquet\n",
      "Copying file://../embeddings/earthgenome/2024/36NZG_2024-01-01_2025-01-01.parquet to gs://embeddings-kenya/earthgenome/2024/36NZG_2024-01-01_2025-01-01.parquet\n",
      "Copying file://../embeddings/earthgenome/2024/36NZH_2024-01-01_2025-01-01.parquet to gs://embeddings-kenya/earthgenome/2024/36NZH_2024-01-01_2025-01-01.parquet\n",
      "Copying file://../embeddings/earthgenome/2024/36NZJ_2024-01-01_2025-01-01.parquet to gs://embeddings-kenya/earthgenome/2024/36NZJ_2024-01-01_2025-01-01.parquet\n",
      "Copying file://../embeddings/earthgenome/2024/36NZK_2024-01-01_2025-01-01.parquet to gs://embeddings-kenya/earthgenome/2024/36NZK_2024-01-01_2025-01-01.parquet\n",
      "Copying file://../embeddings/earthgenome/2024/36NZL_2024-01-01_2025-01-01.parquet to gs://embeddings-kenya/earthgenome/2024/36NZL_2024-01-01_2025-01-01.parquet\n",
      "Copying file://../embeddings/earthgenome/2024/37MBS_2024-01-01_2025-01-01.parquet to gs://embeddings-kenya/earthgenome/2024/37MBS_2024-01-01_2025-01-01.parquet\n",
      "Copying file://../embeddings/earthgenome/2024/37MBT_2024-01-01_2025-01-01.parquet to gs://embeddings-kenya/earthgenome/2024/37MBT_2024-01-01_2025-01-01.parquet\n",
      "Copying file://../embeddings/earthgenome/2024/37MBU_2024-01-01_2025-01-01.parquet to gs://embeddings-kenya/earthgenome/2024/37MBU_2024-01-01_2025-01-01.parquet\n",
      "Copying file://../embeddings/earthgenome/2024/37MBV_2024-01-01_2025-01-01.parquet to gs://embeddings-kenya/earthgenome/2024/37MBV_2024-01-01_2025-01-01.parquet\n",
      "Copying file://../embeddings/earthgenome/2024/37MCR_2024-01-01_2025-01-01.parquet to gs://embeddings-kenya/earthgenome/2024/37MCR_2024-01-01_2025-01-01.parquet\n",
      "Copying file://../embeddings/earthgenome/2024/37MCS_2024-01-01_2025-01-01.parquet to gs://embeddings-kenya/earthgenome/2024/37MCS_2024-01-01_2025-01-01.parquet\n",
      "Copying file://../embeddings/earthgenome/2024/37MCT_2024-01-01_2025-01-01.parquet to gs://embeddings-kenya/earthgenome/2024/37MCT_2024-01-01_2025-01-01.parquet\n",
      "Copying file://../embeddings/earthgenome/2024/37MCU_2024-01-01_2025-01-01.parquet to gs://embeddings-kenya/earthgenome/2024/37MCU_2024-01-01_2025-01-01.parquet\n",
      "Copying file://../embeddings/earthgenome/2024/37MCV_2024-01-01_2025-01-01.parquet to gs://embeddings-kenya/earthgenome/2024/37MCV_2024-01-01_2025-01-01.parquet\n",
      "Copying file://../embeddings/earthgenome/2024/37MDQ_2024-01-01_2025-01-01.parquet to gs://embeddings-kenya/earthgenome/2024/37MDQ_2024-01-01_2025-01-01.parquet\n",
      "Copying file://../embeddings/earthgenome/2024/37MDR_2024-01-01_2025-01-01.parquet to gs://embeddings-kenya/earthgenome/2024/37MDR_2024-01-01_2025-01-01.parquet\n",
      "Copying file://../embeddings/earthgenome/2024/37MDS_2024-01-01_2025-01-01.parquet to gs://embeddings-kenya/earthgenome/2024/37MDS_2024-01-01_2025-01-01.parquet\n",
      "Copying file://../embeddings/earthgenome/2024/37MDT_2024-01-01_2025-01-01.parquet to gs://embeddings-kenya/earthgenome/2024/37MDT_2024-01-01_2025-01-01.parquet\n",
      "Copying file://../embeddings/earthgenome/2024/37MDU_2024-01-01_2025-01-01.parquet to gs://embeddings-kenya/earthgenome/2024/37MDU_2024-01-01_2025-01-01.parquet\n",
      "Copying file://../embeddings/earthgenome/2024/37MDV_2024-01-01_2025-01-01.parquet to gs://embeddings-kenya/earthgenome/2024/37MDV_2024-01-01_2025-01-01.parquet\n",
      "Copying file://../embeddings/earthgenome/2024/37MEQ_2024-01-01_2025-01-01.parquet to gs://embeddings-kenya/earthgenome/2024/37MEQ_2024-01-01_2025-01-01.parquet\n",
      "Copying file://../embeddings/earthgenome/2024/37MER_2024-01-01_2025-01-01.parquet to gs://embeddings-kenya/earthgenome/2024/37MER_2024-01-01_2025-01-01.parquet\n",
      "Copying file://../embeddings/earthgenome/2024/37MES_2024-01-01_2025-01-01.parquet to gs://embeddings-kenya/earthgenome/2024/37MES_2024-01-01_2025-01-01.parquet\n",
      "Copying file://../embeddings/earthgenome/2024/37MET_2024-01-01_2025-01-01.parquet to gs://embeddings-kenya/earthgenome/2024/37MET_2024-01-01_2025-01-01.parquet\n",
      "Copying file://../embeddings/earthgenome/2024/37MEU_2024-01-01_2025-01-01.parquet to gs://embeddings-kenya/earthgenome/2024/37MEU_2024-01-01_2025-01-01.parquet\n",
      "Copying file://../embeddings/earthgenome/2024/37MEV_2024-01-01_2025-01-01.parquet to gs://embeddings-kenya/earthgenome/2024/37MEV_2024-01-01_2025-01-01.parquet\n",
      "Copying file://../embeddings/earthgenome/2024/37MFS_2024-01-01_2025-01-01.parquet to gs://embeddings-kenya/earthgenome/2024/37MFS_2024-01-01_2025-01-01.parquet\n",
      "Copying file://../embeddings/earthgenome/2024/37MFT_2024-01-01_2025-01-01.parquet to gs://embeddings-kenya/earthgenome/2024/37MFT_2024-01-01_2025-01-01.parquet\n",
      "Copying file://../embeddings/earthgenome/2024/37MFU_2024-01-01_2025-01-01.parquet to gs://embeddings-kenya/earthgenome/2024/37MFU_2024-01-01_2025-01-01.parquet\n",
      "Copying file://../embeddings/earthgenome/2024/37MFV_2024-01-01_2025-01-01.parquet to gs://embeddings-kenya/earthgenome/2024/37MFV_2024-01-01_2025-01-01.parquet\n",
      "Copying file://../embeddings/earthgenome/2024/37MGT_2024-01-01_2025-01-01.parquet to gs://embeddings-kenya/earthgenome/2024/37MGT_2024-01-01_2025-01-01.parquet\n",
      "Copying file://../embeddings/earthgenome/2024/37MGU_2024-01-01_2025-01-01.parquet to gs://embeddings-kenya/earthgenome/2024/37MGU_2024-01-01_2025-01-01.parquet\n",
      "Copying file://../embeddings/earthgenome/2024/37MGV_2024-01-01_2025-01-01.parquet to gs://embeddings-kenya/earthgenome/2024/37MGV_2024-01-01_2025-01-01.parquet\n",
      "Copying file://../embeddings/earthgenome/2024/37NBA_2024-01-01_2025-01-01.parquet to gs://embeddings-kenya/earthgenome/2024/37NBA_2024-01-01_2025-01-01.parquet\n",
      "Copying file://../embeddings/earthgenome/2024/37NBB_2024-01-01_2025-01-01.parquet to gs://embeddings-kenya/earthgenome/2024/37NBB_2024-01-01_2025-01-01.parquet\n",
      "Copying file://../embeddings/earthgenome/2024/37NBC_2024-01-01_2025-01-01.parquet to gs://embeddings-kenya/earthgenome/2024/37NBC_2024-01-01_2025-01-01.parquet\n",
      "Copying file://../embeddings/earthgenome/2024/37NBD_2024-01-01_2025-01-01.parquet to gs://embeddings-kenya/earthgenome/2024/37NBD_2024-01-01_2025-01-01.parquet\n",
      "Copying file://../embeddings/earthgenome/2024/37NBE_2024-01-01_2025-01-01.parquet to gs://embeddings-kenya/earthgenome/2024/37NBE_2024-01-01_2025-01-01.parquet\n",
      "Copying file://../embeddings/earthgenome/2024/37NBF_2024-01-01_2025-01-01.parquet to gs://embeddings-kenya/earthgenome/2024/37NBF_2024-01-01_2025-01-01.parquet\n",
      "Copying file://../embeddings/earthgenome/2024/37NCA_2024-01-01_2025-01-01.parquet to gs://embeddings-kenya/earthgenome/2024/37NCA_2024-01-01_2025-01-01.parquet\n",
      "Copying file://../embeddings/earthgenome/2024/37NCB_2024-01-01_2025-01-01.parquet to gs://embeddings-kenya/earthgenome/2024/37NCB_2024-01-01_2025-01-01.parquet\n",
      "Copying file://../embeddings/earthgenome/2024/37NCC_2024-01-01_2025-01-01.parquet to gs://embeddings-kenya/earthgenome/2024/37NCC_2024-01-01_2025-01-01.parquet\n",
      "Copying file://../embeddings/earthgenome/2024/37NCD_2024-01-01_2025-01-01.parquet to gs://embeddings-kenya/earthgenome/2024/37NCD_2024-01-01_2025-01-01.parquet\n",
      "Copying file://../embeddings/earthgenome/2024/37NCE_2024-01-01_2025-01-01.parquet to gs://embeddings-kenya/earthgenome/2024/37NCE_2024-01-01_2025-01-01.parquet\n",
      "Copying file://../embeddings/earthgenome/2024/37NDA_2024-01-01_2025-01-01.parquet to gs://embeddings-kenya/earthgenome/2024/37NDA_2024-01-01_2025-01-01.parquet\n",
      "Copying file://../embeddings/earthgenome/2024/37NDB_2024-01-01_2025-01-01.parquet to gs://embeddings-kenya/earthgenome/2024/37NDB_2024-01-01_2025-01-01.parquet\n",
      "Copying file://../embeddings/earthgenome/2024/37NDC_2024-01-01_2025-01-01.parquet to gs://embeddings-kenya/earthgenome/2024/37NDC_2024-01-01_2025-01-01.parquet\n",
      "Copying file://../embeddings/earthgenome/2024/37NDD_2024-01-01_2025-01-01.parquet to gs://embeddings-kenya/earthgenome/2024/37NDD_2024-01-01_2025-01-01.parquet\n",
      "Copying file://../embeddings/earthgenome/2024/37NDE_2024-01-01_2025-01-01.parquet to gs://embeddings-kenya/earthgenome/2024/37NDE_2024-01-01_2025-01-01.parquet\n",
      "Copying file://../embeddings/earthgenome/2024/37NEA_2024-01-01_2025-01-01.parquet to gs://embeddings-kenya/earthgenome/2024/37NEA_2024-01-01_2025-01-01.parquet\n",
      "Copying file://../embeddings/earthgenome/2024/37NEB_2024-01-01_2025-01-01.parquet to gs://embeddings-kenya/earthgenome/2024/37NEB_2024-01-01_2025-01-01.parquet\n",
      "Copying file://../embeddings/earthgenome/2024/37NEC_2024-01-01_2025-01-01.parquet to gs://embeddings-kenya/earthgenome/2024/37NEC_2024-01-01_2025-01-01.parquet\n",
      "Copying file://../embeddings/earthgenome/2024/37NED_2024-01-01_2025-01-01.parquet to gs://embeddings-kenya/earthgenome/2024/37NED_2024-01-01_2025-01-01.parquet\n",
      "Copying file://../embeddings/earthgenome/2024/37NEE_2024-01-01_2025-01-01.parquet to gs://embeddings-kenya/earthgenome/2024/37NEE_2024-01-01_2025-01-01.parquet\n",
      "Copying file://../embeddings/earthgenome/2024/37NFA_2024-01-01_2025-01-01.parquet to gs://embeddings-kenya/earthgenome/2024/37NFA_2024-01-01_2025-01-01.parquet\n",
      "Copying file://../embeddings/earthgenome/2024/37NFB_2024-01-01_2025-01-01.parquet to gs://embeddings-kenya/earthgenome/2024/37NFB_2024-01-01_2025-01-01.parquet\n",
      "Copying file://../embeddings/earthgenome/2024/37NFC_2024-01-01_2025-01-01.parquet to gs://embeddings-kenya/earthgenome/2024/37NFC_2024-01-01_2025-01-01.parquet\n",
      "Copying file://../embeddings/earthgenome/2024/37NFD_2024-01-01_2025-01-01.parquet to gs://embeddings-kenya/earthgenome/2024/37NFD_2024-01-01_2025-01-01.parquet\n",
      "Copying file://../embeddings/earthgenome/2024/37NFE_2024-01-01_2025-01-01.parquet to gs://embeddings-kenya/earthgenome/2024/37NFE_2024-01-01_2025-01-01.parquet\n",
      "Copying file://../embeddings/earthgenome/2024/37NGA_2024-01-01_2025-01-01.parquet to gs://embeddings-kenya/earthgenome/2024/37NGA_2024-01-01_2025-01-01.parquet\n",
      "Copying file://../embeddings/earthgenome/2024/37NGB_2024-01-01_2025-01-01.parquet to gs://embeddings-kenya/earthgenome/2024/37NGB_2024-01-01_2025-01-01.parquet\n",
      "Copying file://../embeddings/earthgenome/2024/37NGC_2024-01-01_2025-01-01.parquet to gs://embeddings-kenya/earthgenome/2024/37NGC_2024-01-01_2025-01-01.parquet\n",
      "Copying file://../embeddings/earthgenome/2024/37NGD_2024-01-01_2025-01-01.parquet to gs://embeddings-kenya/earthgenome/2024/37NGD_2024-01-01_2025-01-01.parquet\n",
      "Copying file://../embeddings/earthgenome/2024/37NGE_2024-01-01_2025-01-01.parquet to gs://embeddings-kenya/earthgenome/2024/37NGE_2024-01-01_2025-01-01.parquet\n",
      "Copying file://../embeddings/earthgenome/2024/37NHE_2024-01-01_2025-01-01.parquet to gs://embeddings-kenya/earthgenome/2024/37NHE_2024-01-01_2025-01-01.parquet\n",
      "  Completed files 704/88 | 30.0GiB/30.0GiB | 30.9MiB/s                         \n",
      "\n",
      "Average throughput: 17.5MiB/s\n"
     ]
    }
   ],
   "source": [
    "# upload parquet files to gcs\n",
    "# try gcloud storage sync..\n",
    "gcloud_folder = f\"{BUCKET}/earthgenome/2024\"\n",
    "!gcloud storage rsync ../embeddings/earthgenome/2024 $gcloud_folder \\\n",
    "    --project=$PROJECT_ID"
   ]
  },
  {
   "cell_type": "code",
   "execution_count": 39,
   "id": "ea6f952e",
   "metadata": {},
   "outputs": [
    {
     "name": "stdout",
     "output_type": "stream",
     "text": [
      "g4g-eaas:embeddings_kenya.earthgenome_kenya\n",
      "gs://embeddings-kenya/earthgenome/2024/36MYC_2024-01-01_2025-01-01.parquet\n",
      "Waiting on bqjob_r5bddcafebe36db92_00000197e6f627f4_1 ... (34s) Current status: DONE   \n",
      "gs://embeddings-kenya/earthgenome/2024/37NBF_2024-01-01_2025-01-01.parquet\n",
      "Waiting on bqjob_rdce0b3eb965f41d_00000197e6f6bfca_1 ... (34s) Current status: DONE   \n",
      "gs://embeddings-kenya/earthgenome/2024/36NZL_2024-01-01_2025-01-01.parquet\n",
      "Waiting on bqjob_r76dae7561340ac55_00000197e6f755f7_1 ... (34s) Current status: DONE   \n",
      "gs://embeddings-kenya/earthgenome/2024/36MWD_2024-01-01_2025-01-01.parquet\n",
      "Waiting on bqjob_r769afeb0e07f1105_00000197e6f7eb89_1 ... (34s) Current status: DONE   \n",
      "gs://embeddings-kenya/earthgenome/2024/36NXG_2024-01-01_2025-01-01.parquet\n",
      "Waiting on bqjob_r7c129e00e11d1473_00000197e6f881af_1 ... (34s) Current status: DONE   \n",
      "gs://embeddings-kenya/earthgenome/2024/37NBE_2024-01-01_2025-01-01.parquet\n",
      "Waiting on bqjob_r53db244277ea59c7_00000197e6f9177d_1 ... (34s) Current status: DONE   \n",
      "gs://embeddings-kenya/earthgenome/2024/36MZC_2024-01-01_2025-01-01.parquet\n",
      "Waiting on bqjob_r3f7d12ad2eecf831_00000197e6f9ab8c_1 ... (48s) Current status: DONE   \n",
      "gs://embeddings-kenya/earthgenome/2024/37NFA_2024-01-01_2025-01-01.parquet\n",
      "Waiting on bqjob_r29fb384e1a531731_00000197e6fa7800_1 ... (34s) Current status: DONE   \n",
      "gs://embeddings-kenya/earthgenome/2024/36NXK_2024-01-01_2025-01-01.parquet\n",
      "Waiting on bqjob_r144837e941c8557f_00000197e6fb0e68_1 ... (34s) Current status: DONE   \n",
      "gs://embeddings-kenya/earthgenome/2024/37NEC_2024-01-01_2025-01-01.parquet\n",
      "Waiting on bqjob_r7e60df36a1cf7aea_00000197e6fba3d4_1 ... (34s) Current status: DONE   \n",
      "gs://embeddings-kenya/earthgenome/2024/36MWE_2024-01-01_2025-01-01.parquet\n",
      "Waiting on bqjob_r25a99ab4d41ad5ae_00000197e6fc3839_1 ... (34s) Current status: DONE   \n",
      "gs://embeddings-kenya/earthgenome/2024/37MDS_2024-01-01_2025-01-01.parquet\n",
      "Waiting on bqjob_r63eee463643925ce_00000197e6fccd3b_1 ... (34s) Current status: DONE   \n",
      "gs://embeddings-kenya/earthgenome/2024/37NCB_2024-01-01_2025-01-01.parquet\n",
      "Waiting on bqjob_r3188ca89a60dfb06_00000197e6fd624e_1 ... (34s) Current status: DONE   \n",
      "gs://embeddings-kenya/earthgenome/2024/37NDE_2024-01-01_2025-01-01.parquet\n",
      "Waiting on bqjob_r51f38ccf9a5dddbf_00000197e6fdf6b3_1 ... (34s) Current status: DONE   \n",
      "gs://embeddings-kenya/earthgenome/2024/37NFC_2024-01-01_2025-01-01.parquet\n",
      "Waiting on bqjob_r666cfe5a9daebf6c_00000197e6fe8b72_1 ... (34s) Current status: DONE   \n",
      "gs://embeddings-kenya/earthgenome/2024/37NCA_2024-01-01_2025-01-01.parquet\n",
      "Waiting on bqjob_r621db7f80d36d750_00000197e6ff2038_1 ... (34s) Current status: DONE   \n",
      "gs://embeddings-kenya/earthgenome/2024/37NDB_2024-01-01_2025-01-01.parquet\n",
      "Waiting on bqjob_r12cf29ae6724252_00000197e6ffb651_1 ... (34s) Current status: DONE   \n",
      "gs://embeddings-kenya/earthgenome/2024/37MCU_2024-01-01_2025-01-01.parquet\n",
      "Waiting on bqjob_r70f2d4e94ac09ff9_00000197e7004ad2_1 ... (23s) Current status: DONE   \n",
      "gs://embeddings-kenya/earthgenome/2024/37MCV_2024-01-01_2025-01-01.parquet\n",
      "Waiting on bqjob_r20cb25e972cac62_00000197e700b3dd_1 ... (23s) Current status: DONE   \n",
      "gs://embeddings-kenya/earthgenome/2024/37NDC_2024-01-01_2025-01-01.parquet\n",
      "Waiting on bqjob_r24460ea93d4301be_00000197e7011d25_1 ... (23s) Current status: DONE   \n",
      "gs://embeddings-kenya/earthgenome/2024/37NGE_2024-01-01_2025-01-01.parquet\n",
      "Waiting on bqjob_r2e5525f8691abc16_00000197e70185ee_1 ... (23s) Current status: DONE   \n",
      "gs://embeddings-kenya/earthgenome/2024/37NBB_2024-01-01_2025-01-01.parquet\n",
      "Waiting on bqjob_r699181dd6828fbbc_00000197e701ef71_1 ... (23s) Current status: DONE   \n",
      "gs://embeddings-kenya/earthgenome/2024/37MDU_2024-01-01_2025-01-01.parquet\n",
      "Waiting on bqjob_r324abc262ae04a41_00000197e7025822_1 ... (23s) Current status: DONE   \n",
      "gs://embeddings-kenya/earthgenome/2024/37MFT_2024-01-01_2025-01-01.parquet\n",
      "Waiting on bqjob_r7cda43f223b2aa89_00000197e702c0c5_1 ... (23s) Current status: DONE   \n",
      "gs://embeddings-kenya/earthgenome/2024/37NGC_2024-01-01_2025-01-01.parquet\n",
      "Waiting on bqjob_r17dc360c87a43e4f_00000197e7032a4b_1 ... (23s) Current status: DONE   \n",
      "gs://embeddings-kenya/earthgenome/2024/37NEE_2024-01-01_2025-01-01.parquet\n",
      "Waiting on bqjob_r1bda0d018dae946b_00000197e70393a4_1 ... (23s) Current status: DONE   \n",
      "gs://embeddings-kenya/earthgenome/2024/37MBU_2024-01-01_2025-01-01.parquet\n",
      "Waiting on bqjob_r3488bce21b8326a0_00000197e703fd25_1 ... (23s) Current status: DONE   \n",
      "gs://embeddings-kenya/earthgenome/2024/36NXL_2024-01-01_2025-01-01.parquet\n",
      "Waiting on bqjob_r7602047f114d3bdf_00000197e70466c9_1 ... (23s) Current status: DONE   \n",
      "gs://embeddings-kenya/earthgenome/2024/37MBT_2024-01-01_2025-01-01.parquet\n",
      "Waiting on bqjob_r78af8695efd570c2_00000197e704d184_1 ... (34s) Current status: DONE   \n",
      "gs://embeddings-kenya/earthgenome/2024/37MCR_2024-01-01_2025-01-01.parquet\n",
      "Waiting on bqjob_r6e6ba55ff4f81d4_00000197e705688a_1 ... (23s) Current status: DONE   \n",
      "gs://embeddings-kenya/earthgenome/2024/37MEQ_2024-01-01_2025-01-01.parquet\n",
      "Waiting on bqjob_r5f772f3ec6c5da38_00000197e705d6ca_1 ... (34s) Current status: DONE   \n",
      "gs://embeddings-kenya/earthgenome/2024/37MFV_2024-01-01_2025-01-01.parquet\n",
      "Waiting on bqjob_r3e17354a7f3ae91e_00000197e7066bce_1 ... (23s) Current status: DONE   \n",
      "gs://embeddings-kenya/earthgenome/2024/37NCC_2024-01-01_2025-01-01.parquet\n",
      "Waiting on bqjob_r4278e3c224335650_00000197e706d81c_1 ... (23s) Current status: DONE   \n",
      "gs://embeddings-kenya/earthgenome/2024/36NYL_2024-01-01_2025-01-01.parquet\n",
      "Waiting on bqjob_r6528ce6709c3cff6_00000197e70742fe_1 ... (23s) Current status: DONE   \n",
      "gs://embeddings-kenya/earthgenome/2024/37NGD_2024-01-01_2025-01-01.parquet\n",
      "Waiting on bqjob_r6079719350976ce_00000197e707acdd_1 ... (23s) Current status: DONE   \n",
      "gs://embeddings-kenya/earthgenome/2024/37NHE_2024-01-01_2025-01-01.parquet\n",
      "Waiting on bqjob_r2ce8f53f0e33fc8a_00000197e7081925_1 ... (23s) Current status: DONE   \n",
      "gs://embeddings-kenya/earthgenome/2024/37NEB_2024-01-01_2025-01-01.parquet\n",
      "Waiting on bqjob_ra9e3a4abef2ab4a_00000197e7088425_1 ... (23s) Current status: DONE   \n",
      "gs://embeddings-kenya/earthgenome/2024/36NXJ_2024-01-01_2025-01-01.parquet\n",
      "Waiting on bqjob_r6181f5e234630548_00000197e708ef5c_1 ... (23s) Current status: DONE   \n",
      "gs://embeddings-kenya/earthgenome/2024/36MYD_2024-01-01_2025-01-01.parquet\n",
      "Waiting on bqjob_rd681fc79984967a_00000197e70959f3_1 ... (23s) Current status: DONE   \n",
      "gs://embeddings-kenya/earthgenome/2024/36NYF_2024-01-01_2025-01-01.parquet\n",
      "Waiting on bqjob_r468ca5f157732676_00000197e709c3e2_1 ... (23s) Current status: DONE   \n",
      "gs://embeddings-kenya/earthgenome/2024/37MEU_2024-01-01_2025-01-01.parquet\n",
      "Waiting on bqjob_r4c7ab21bd7257912_00000197e70a2dd2_1 ... (23s) Current status: DONE   \n",
      "gs://embeddings-kenya/earthgenome/2024/37MER_2024-01-01_2025-01-01.parquet\n",
      "Waiting on bqjob_r2a932929ea3f4f01_00000197e70a971a_1 ... (23s) Current status: DONE   \n",
      "gs://embeddings-kenya/earthgenome/2024/37MGU_2024-01-01_2025-01-01.parquet\n",
      "Waiting on bqjob_r322666b91204003a_00000197e70b0076_1 ... (23s) Current status: DONE   \n",
      "gs://embeddings-kenya/earthgenome/2024/37MET_2024-01-01_2025-01-01.parquet\n",
      "Waiting on bqjob_r5c0ac95a0faa845f_00000197e70b6afb_1 ... (23s) Current status: DONE   \n",
      "gs://embeddings-kenya/earthgenome/2024/37MGT_2024-01-01_2025-01-01.parquet\n",
      "Waiting on bqjob_r42b6c9b1c3fc64e6_00000197e70bd428_1 ... (23s) Current status: DONE   \n",
      "gs://embeddings-kenya/earthgenome/2024/36MZE_2024-01-01_2025-01-01.parquet\n",
      "Waiting on bqjob_r62583fa4ed172ffd_00000197e70c3efc_1 ... (34s) Current status: DONE   \n",
      "gs://embeddings-kenya/earthgenome/2024/37MCT_2024-01-01_2025-01-01.parquet\n",
      "Waiting on bqjob_r6a211a42991c93b5_00000197e70cd43b_1 ... (23s) Current status: DONE   \n",
      "gs://embeddings-kenya/earthgenome/2024/36NYK_2024-01-01_2025-01-01.parquet\n",
      "Waiting on bqjob_r3e946e09b3856e94_00000197e70d3f9d_1 ... (23s) Current status: DONE   \n",
      "gs://embeddings-kenya/earthgenome/2024/37NFB_2024-01-01_2025-01-01.parquet\n",
      "Waiting on bqjob_r63eb779a7b01359f_00000197e70da967_1 ... (23s) Current status: DONE   \n",
      "gs://embeddings-kenya/earthgenome/2024/36NYJ_2024-01-01_2025-01-01.parquet\n",
      "Waiting on bqjob_r6e07480110116cbf_00000197e70e12a3_1 ... (23s) Current status: DONE   \n",
      "gs://embeddings-kenya/earthgenome/2024/36NWF_2024-01-01_2025-01-01.parquet\n",
      "Waiting on bqjob_r37748617de5fba8d_00000197e70e7c62_1 ... (23s) Current status: DONE   \n",
      "gs://embeddings-kenya/earthgenome/2024/37NEA_2024-01-01_2025-01-01.parquet\n",
      "Waiting on bqjob_r26600492f547ebc8_00000197e70ee580_1 ... (23s) Current status: DONE   \n",
      "gs://embeddings-kenya/earthgenome/2024/36NZG_2024-01-01_2025-01-01.parquet\n",
      "Waiting on bqjob_r2844b47db443524b_00000197e70f502c_1 ... (17s) Current status: DONE   \n",
      "gs://embeddings-kenya/earthgenome/2024/37MBV_2024-01-01_2025-01-01.parquet\n",
      "Waiting on bqjob_r5cb77cabf80e6e5f_00000197e70fa2a9_1 ... (23s) Current status: DONE   \n",
      "gs://embeddings-kenya/earthgenome/2024/36NZJ_2024-01-01_2025-01-01.parquet\n",
      "Waiting on bqjob_r7dc119afc6fef06c_00000197e7100c98_1 ... (23s) Current status: DONE   \n",
      "gs://embeddings-kenya/earthgenome/2024/37MCS_2024-01-01_2025-01-01.parquet\n",
      "Waiting on bqjob_r2725d6f84637a6be_00000197e7107640_1 ... (23s) Current status: DONE   \n",
      "gs://embeddings-kenya/earthgenome/2024/37MDT_2024-01-01_2025-01-01.parquet\n",
      "Waiting on bqjob_r4c53ffe699fda3c0_00000197e710e119_1 ... (23s) Current status: DONE   \n",
      "gs://embeddings-kenya/earthgenome/2024/37NGB_2024-01-01_2025-01-01.parquet\n",
      "Waiting on bqjob_r432a35a1f18ed97d_00000197e7114af9_1 ... (23s) Current status: DONE   \n",
      "gs://embeddings-kenya/earthgenome/2024/37MFU_2024-01-01_2025-01-01.parquet\n",
      "Waiting on bqjob_r6f2dbfdeba5607d7_00000197e711b5d5_1 ... (23s) Current status: DONE   \n",
      "gs://embeddings-kenya/earthgenome/2024/37NGA_2024-01-01_2025-01-01.parquet\n",
      "Waiting on bqjob_r1a268da6507fd75a_00000197e71223a7_1 ... (23s) Current status: DONE   \n",
      "gs://embeddings-kenya/earthgenome/2024/37MES_2024-01-01_2025-01-01.parquet\n",
      "Waiting on bqjob_r5359f3878b7de685_00000197e7128ed0_1 ... (23s) Current status: DONE   \n",
      "gs://embeddings-kenya/earthgenome/2024/37NED_2024-01-01_2025-01-01.parquet\n",
      "Waiting on bqjob_r4b38dc9d3e35019b_00000197e712f912_1 ... (23s) Current status: DONE   \n",
      "gs://embeddings-kenya/earthgenome/2024/37NDD_2024-01-01_2025-01-01.parquet\n",
      "Waiting on bqjob_r641f6f6fe016d23c_00000197e71363df_1 ... (23s) Current status: DONE   \n",
      "gs://embeddings-kenya/earthgenome/2024/36NYH_2024-01-01_2025-01-01.parquet\n",
      "Waiting on bqjob_r2221891790a8d36c_00000197e713cd6b_1 ... (23s) Current status: DONE   \n",
      "gs://embeddings-kenya/earthgenome/2024/37NBC_2024-01-01_2025-01-01.parquet\n",
      "Waiting on bqjob_r66cd82fda7e3991_00000197e71437a4_1 ... (23s) Current status: DONE   \n",
      "gs://embeddings-kenya/earthgenome/2024/37NBA_2024-01-01_2025-01-01.parquet\n",
      "Waiting on bqjob_r26b57d01f453a533_00000197e714a136_1 ... (34s) Current status: DONE   \n",
      "gs://embeddings-kenya/earthgenome/2024/37MDV_2024-01-01_2025-01-01.parquet\n",
      "Waiting on bqjob_r423d09491f12f723_00000197e71535b5_1 ... (23s) Current status: DONE   \n",
      "gs://embeddings-kenya/earthgenome/2024/37NCD_2024-01-01_2025-01-01.parquet\n",
      "Waiting on bqjob_r7a94a34b183f6974_00000197e7159fb1_1 ... (23s) Current status: DONE   \n",
      "gs://embeddings-kenya/earthgenome/2024/36NXH_2024-01-01_2025-01-01.parquet\n",
      "Waiting on bqjob_r76db0a0315e98439_00000197e7160a60_1 ... (34s) Current status: DONE   \n",
      "gs://embeddings-kenya/earthgenome/2024/36NZH_2024-01-01_2025-01-01.parquet\n",
      "Waiting on bqjob_r7ff5109e9c2bcd9a_00000197e716a0af_1 ... (23s) Current status: DONE   \n",
      "gs://embeddings-kenya/earthgenome/2024/37MBS_2024-01-01_2025-01-01.parquet\n",
      "Waiting on bqjob_r74cd3fb0ceb74981_00000197e71709c9_1 ... (23s) Current status: DONE   \n",
      "gs://embeddings-kenya/earthgenome/2024/36NYG_2024-01-01_2025-01-01.parquet\n",
      "Waiting on bqjob_r1a3929c1853b1529_00000197e71774ac_1 ... (23s) Current status: DONE   \n",
      "gs://embeddings-kenya/earthgenome/2024/36NXF_2024-01-01_2025-01-01.parquet\n",
      "Waiting on bqjob_r4c81a7c68a39f9e4_00000197e717deda_1 ... (23s) Current status: DONE   \n",
      "gs://embeddings-kenya/earthgenome/2024/37MFS_2024-01-01_2025-01-01.parquet\n",
      "Waiting on bqjob_r6088fd81acaf976a_00000197e7184926_1 ... (23s) Current status: DONE   \n",
      "gs://embeddings-kenya/earthgenome/2024/36MZD_2024-01-01_2025-01-01.parquet\n",
      "Waiting on bqjob_r1ba8386c342e2314_00000197e718b28a_1 ... (23s) Current status: DONE   \n",
      "gs://embeddings-kenya/earthgenome/2024/36MXE_2024-01-01_2025-01-01.parquet\n",
      "Waiting on bqjob_r12d15879d0b0c6bc_00000197e7191b6e_1 ... (23s) Current status: DONE   \n",
      "gs://embeddings-kenya/earthgenome/2024/36NZK_2024-01-01_2025-01-01.parquet\n",
      "Waiting on bqjob_r50f34c268020e95c_00000197e71984a2_1 ... (23s) Current status: DONE   \n",
      "gs://embeddings-kenya/earthgenome/2024/36NZF_2024-01-01_2025-01-01.parquet\n",
      "Waiting on bqjob_r4753119e4da93f2e_00000197e719efc5_1 ... (23s) Current status: DONE   \n",
      "gs://embeddings-kenya/earthgenome/2024/37MDQ_2024-01-01_2025-01-01.parquet\n",
      "Waiting on bqjob_r1aa245d9b676f0f3_00000197e71a5a99_1 ... (23s) Current status: DONE   \n",
      "gs://embeddings-kenya/earthgenome/2024/36MXD_2024-01-01_2025-01-01.parquet\n",
      "Waiting on bqjob_r59f20ef7585a5e64_00000197e71ac4ae_1 ... (23s) Current status: DONE   \n",
      "gs://embeddings-kenya/earthgenome/2024/37MGV_2024-01-01_2025-01-01.parquet\n",
      "Waiting on bqjob_r330eb03a36ad6ed0_00000197e71b2e16_1 ... (23s) Current status: DONE   \n",
      "gs://embeddings-kenya/earthgenome/2024/37NFD_2024-01-01_2025-01-01.parquet\n",
      "Waiting on bqjob_r42889fd2966429d8_00000197e71b981c_1 ... (23s) Current status: DONE   \n",
      "gs://embeddings-kenya/earthgenome/2024/37MEV_2024-01-01_2025-01-01.parquet\n",
      "Waiting on bqjob_r2333aeb553c3f870_00000197e71c02a7_1 ... (23s) Current status: DONE   \n",
      "gs://embeddings-kenya/earthgenome/2024/37NBD_2024-01-01_2025-01-01.parquet\n",
      "Waiting on bqjob_r2ac7f51420f9af_00000197e71c6d64_1 ... (34s) Current status: DONE   \n",
      "gs://embeddings-kenya/earthgenome/2024/37NFE_2024-01-01_2025-01-01.parquet\n",
      "Waiting on bqjob_r2173cb547bd8a05b_00000197e71d02e7_1 ... (23s) Current status: DONE   \n",
      "gs://embeddings-kenya/earthgenome/2024/37NDA_2024-01-01_2025-01-01.parquet\n",
      "Waiting on bqjob_r520c38eb98e95473_00000197e71d6e32_1 ... (23s) Current status: DONE   \n",
      "gs://embeddings-kenya/earthgenome/2024/37NCE_2024-01-01_2025-01-01.parquet\n",
      "Waiting on bqjob_r7894fbde7ce4afe6_00000197e71dd858_1 ... (23s) Current status: DONE   \n",
      "gs://embeddings-kenya/earthgenome/2024/37MDR_2024-01-01_2025-01-01.parquet\n",
      "Waiting on bqjob_rc4c606882650520_00000197e71e419d_1 ... (23s) Current status: DONE   \n"
     ]
    }
   ],
   "source": [
    "FULL_TABLE = f\"{PROJECT_ID}:{DATASET_ID}.{TABLE_ID}\"\n",
    "FOLDER = \"earthgenome/2024\"\n",
    "print(FULL_TABLE)\n",
    "for file in files:\n",
    "    URI = f\"{BUCKET}/{FOLDER}/{file}\" \n",
    "    \n",
    "    print(URI)\n",
    "    !bq --location=$LOCATION --project_id=$PROJECT_ID \\\n",
    "            load \\\n",
    "                --source_format=PARQUET \\\n",
    "                $FULL_TABLE \\\n",
    "                $URI"
   ]
  },
  {
   "cell_type": "markdown",
   "id": "a2012cf5",
   "metadata": {},
   "source": [
    "### Minor transforms of the BQ table \n",
    "\n",
    "we will do a small post-processing query on the loaded embeddings table to get the embedding field converted correctly for vector search..\n",
    "\n",
    "vector search indexing requires the embedding field to be of type `ARRAY<FLOAT>`\n",
    "\n",
    "the load operation turns 'embedding' field into a double-nested STRUCT data type, innermost child containing list of floats.. \n",
    "\n",
    "so we have to unpack that list from the nested structure, final data type being `ARRAY<FLOAT64>`"
   ]
  },
  {
   "cell_type": "code",
   "execution_count": 49,
   "id": "d2a6004a",
   "metadata": {},
   "outputs": [
    {
     "data": {
      "text/plain": [
       "<google.cloud.bigquery.table.RowIterator at 0x73e1e7c0bd90>"
      ]
     },
     "execution_count": 49,
     "metadata": {},
     "output_type": "execute_result"
    }
   ],
   "source": [
    "from google.cloud import bigquery\n",
    "query = f\"\"\"\n",
    "SELECT\n",
    "  eg.id,\n",
    "  eg.tile,\n",
    "  ST_GEOGFROMTEXT(grouped.geometry_text) AS geometry,\n",
    "  ARRAY_AGG(e.element) AS embedding\n",
    "FROM\n",
    "  `{PROJECT_ID}`.`{DATASET_ID}`.`{TABLE_ID}` AS eg\n",
    "CROSS JOIN\n",
    "  UNNEST(eg.embedding.list) AS e\n",
    "JOIN (\n",
    "  SELECT id, tile, ST_ASTEXT(geometry) AS geometry_text\n",
    "  FROM `{PROJECT_ID}`.`{DATASET_ID}`.`{TABLE_ID}`\n",
    "  GROUP BY id, tile, geometry_text\n",
    ") AS grouped ON eg.id = grouped.id AND eg.tile = grouped.tile AND ST_ASTEXT(eg.geometry) = grouped.geometry_text\n",
    "GROUP BY eg.id, eg.tile, grouped.geometry_text\n",
    "\"\"\"\n",
    "\n",
    "# Run the query and save the result to a new table\n",
    "result_table = f\"{PROJECT_ID}.{DATASET_ID}.{TABLE_ID}_v1\"\n",
    "job_config = bigquery.QueryJobConfig(destination=result_table)\n",
    "client = bigquery.Client()\n",
    "job = client.query(query, job_config=job_config)\n",
    "job.result()  # Wait for the job to complete"
   ]
  },
  {
   "cell_type": "code",
   "execution_count": 50,
   "id": "09872f41",
   "metadata": {},
   "outputs": [
    {
     "name": "stdout",
     "output_type": "stream",
     "text": [
      "Table g4g-eaas.embeddings_kenya.earthgenome_kenya_v1 exists.\n"
     ]
    },
    {
     "data": {
      "text/plain": [
       "True"
      ]
     },
     "execution_count": 50,
     "metadata": {},
     "output_type": "execute_result"
    }
   ],
   "source": [
    "# Check if the result_table exists\n",
    "\n",
    "def table_exists(client, table_id):\n",
    "    try:\n",
    "        client.get_table(table_id)\n",
    "        print(f\"Table {table_id} exists.\")\n",
    "        return True\n",
    "    except Exception as e:\n",
    "        print(f\"Table {table_id} does not exist. Error: {e}\")\n",
    "        return False\n",
    "\n",
    "table_exists(client, result_table)"
   ]
  },
  {
   "cell_type": "code",
   "execution_count": 51,
   "id": "66faa394",
   "metadata": {},
   "outputs": [
    {
     "name": "stdout",
     "output_type": "stream",
     "text": [
      "id: INTEGER\n",
      "tile: STRING\n",
      "geometry: GEOGRAPHY\n",
      "embedding: FLOAT\n",
      "Row((21366417132058520, '36MWD', 'POINT(33.9463656625207 -1.68593695103644)', [2.6084940433502197, 0.7507420182228088, 4.672660827636719, 0.8154568672180176, 1.4184563159942627, -0.22790896892547607, 1.5954563617706299, 1.036309003829956, 2.0508384704589844, 0.14478261768817902, 0.7479745745658875, -2.875718355178833, 1.7202969789505005, 0.21487678587436676, 0.2987199127674103, 0.34173423051834106, 0.42625629901885986, 1.3673490285873413, 0.7782024145126343, 2.138732671737671, 2.358751058578491, 0.16330485045909882, -0.6646090745925903, 0.06753062456846237, -0.7604683041572571, -0.6707466244697571, 2.156445026397705, 0.8436424732208252, 1.4777283668518066, 4.545442581176758, 0.15262389183044434, -1.3420811891555786, -1.5844206809997559, 1.8792147636413574, -2.439932346343994, -2.174422025680542, 1.0232149362564087, 0.7525823712348938, -1.1864889860153198, 0.6765024065971375, 0.046289533376693726, -0.8331053853034973, -0.3657783269882202, 0.8602415323257446, 0.6640630960464478, 2.0209274291992188, 0.12774114310741425, -0.07316254824399948, -0.40962842106819153, -0.026545090600848198, 1.8155351877212524, 1.41422700881958, -1.0771632194519043, 0.9347876906394958, -4.52584171295166, 1.3057427406311035, 1.1519129276275635, -0.9991071820259094, -2.248793363571167, -0.9402835965156555, -2.5183117389678955, 1.2926805019378662, 1.5376263856887817, -0.21531501412391663, 1.3307844400405884, -1.7129268646240234, 0.6240875124931335, -3.6837406158447266, 1.4372884035110474, -1.3515986204147339, 0.3019876182079315, 1.459459900856018, 1.2733734846115112, 1.2381350994110107, 2.503675699234009, -2.082641839981079, -0.029079416766762733, -0.2497556209564209, -1.2922046184539795, -5.008429527282715, -2.3976082801818848, 2.236870765686035, -2.4156992435455322, 0.38710659742355347, 3.0875701904296875, 0.6872168183326721, 1.277733325958252, -1.4200798273086548, -1.7851405143737793, -2.165299892425537, 0.7910104990005493, -2.6360106468200684, 3.297102212905884, 1.0711301565170288, 0.101112499833107, -0.18679483234882355, -1.1956299543380737, -1.1953126192092896, -0.4932888150215149, -0.08855502307415009, 0.7561836242675781, 0.8498621582984924, 0.6151804327964783, 0.5100117325782776, -0.5716938376426697, -0.41560864448547363, 2.2524306774139404, -0.9404913187026978, 2.4258816242218018, 1.537093997001648, -0.7546042799949646, 2.123857259750366, 0.05738479271531105, -0.7854488492012024, 1.4502854347229004, 0.25976312160491943, -1.0183231830596924, -2.1472318172454834, 2.2506306171417236, -1.2731138467788696, 2.0154807567596436, 1.7519536018371582, -1.575765609741211, -0.9376476407051086, -0.17158615589141846, 0.62449711561203, 1.811706304550171, -1.72491455078125, -1.427731990814209, -0.911297619342804, 2.3699307441711426, -2.434642791748047, 3.226195812225342, -0.5206611752510071, -2.1442770957946777, 0.057418253272771835, 0.7602267861366272, 0.6987265944480896, 10.562928199768066, 0.052572477608919144, 2.511765956878662, -0.6934540867805481, -1.3413277864456177, -0.8776247501373291, -0.8014230132102966, 1.5840903520584106, 1.5181180238723755, 0.8161414861679077, -1.5318360328674316, 1.8087239265441895, -1.9663137197494507, -3.4859442710876465, -0.9938499927520752, 1.2972259521484375, 0.8718743920326233, -0.32330626249313354, 0.10458584129810333, -2.8725504875183105, 1.0160539150238037, 0.347860723733902, 0.6974256038665771, 3.537853717803955, 3.562352418899536, -0.3970090448856354, -3.104184627532959, -2.1339333057403564, -0.5559330582618713, 1.5027025938034058, -1.1321375370025635, 0.40316858887672424, -1.4732167720794678, -1.0272043943405151, 1.354360580444336, -1.0933618545532227, 2.871838331222534, -2.1443207263946533, 0.5609623193740845, -0.9707167744636536, -1.2721576690673828, 0.7657966613769531, -0.32140472531318665, -2.154059410095215, -2.201751470565796, -0.03612826019525528, 0.8902745842933655, 0.6300991773605347, -3.6041464805603027, -0.27113282680511475, -0.18157334625720978, 0.45406368374824524, -0.8834251761436462, -0.8439190983772278, -1.7225863933563232, -1.3917887210845947, 0.25406962633132935, -1.2293018102645874, 1.0892499685287476, 0.5369435548782349, -1.3397570848464966, 0.11044062674045563, 1.0880309343338013, -1.9793213605880737, 0.1903185248374939, 2.3443984985351562, 1.7729110717773438, 1.3477827310562134, 0.8665276169776917, -2.124364137649536, -0.3215145766735077, 1.4342559576034546, 0.5905337929725647, 0.18049995601177216, -2.225947380065918, -2.9120447635650635, -1.2589011192321777, -1.9962782859802246, -0.15796823799610138, -0.620286762714386, -1.2271006107330322, -1.2837165594100952, -0.22099222242832184, -1.2998050451278687, 0.9960792064666748, 1.7069512605667114, 2.868142604827881, 0.532855749130249, 1.441251516342163, 0.8957733511924744, -0.8570258021354675, 0.09597261995077133, 0.45317429304122925, 1.4488129615783691, -0.3634472191333771, -2.47065806388855, -0.2402641773223877, 1.7192896604537964, -0.8266393542289734, 0.3277978301048279, -0.7416393160820007, 1.6238899230957031, -4.2378668785095215, 1.6643645763397217, -0.40336862206459045, 0.4149525761604309, 0.5562264919281006, -1.143768310546875, -0.586824893951416, -0.3773873448371887, 0.5802037715911865, 3.0519087314605713, -1.1689821481704712, -3.117417812347412, -1.3481614589691162, -1.0528273582458496, 3.415167808532715, -1.1138808727264404, -0.7273527979850769, 0.06498993188142776, 0.014721791259944439, -2.2404890060424805, -0.7176361083984375, 1.3528027534484863, 0.08202210813760757, 0.6112571954727173, -4.199761867523193, 2.2191007137298584, 0.13609637320041656, 1.7147393226623535, -0.4840403199195862, 0.5064842700958252, -1.9307090044021606, -2.696462869644165, 0.26894432306289673, 0.6266359686851501, -2.615976572036743, 1.9092187881469727, 0.23688289523124695, 0.6795729398727417, 0.9401432275772095, 1.3038256168365479, -0.3787897825241089, -2.7420237064361572, -2.3301196098327637, -1.8670613765716553, 0.8639047145843506, -5.370894908905029, 1.091353178024292, -1.8888592720031738, -1.1013593673706055, -1.9894741773605347, 0.3016616404056549, -0.5919874906539917, -2.0317976474761963, 0.5146427154541016, -2.349994659423828, -1.5755138397216797, 3.519169569015503, -0.8284595608711243, 0.2997112274169922, 1.6804763078689575, -2.3232359886169434, -0.2864619493484497, 0.5887485146522522, -1.4231936931610107, 0.9105415344238281, 1.9316582679748535, 0.8505241870880127, -1.6493775844573975, 1.1272292137145996, -0.7085079550743103, 1.7735055685043335, 0.1883140355348587, -4.739627361297607, -0.6503592729568481, 0.05389119312167168, -0.10152182728052139, -0.4388025999069214, -1.2892366647720337, 0.07731727510690689, -0.476734459400177, -0.34774523973464966, 4.532949924468994, -1.7498974800109863, 2.3842694759368896, -0.9239495992660522, -0.2105971872806549, -1.9811699390411377, -2.914684295654297, -1.6053003072738647, -0.6944332122802734, -1.0446665287017822, -0.7508328557014465, -1.7376525402069092, 0.19797593355178833, 1.8121792078018188, 1.316941261291504, -1.5069963932037354, 1.0605268478393555, -1.6776427030563354, 0.4509105384349823, 1.385699987411499, 2.318624258041382, -0.4533696472644806, 0.14944204688072205, 0.7706885933876038, 1.931522011756897, 0.8604626059532166, -2.5666418075561523, 0.35426658391952515, 1.649223804473877, -0.38246890902519226, 2.3615975379943848, 0.692867636680603, -1.2877075672149658, 1.9527606964111328, -0.7606921195983887, -1.3587758541107178, 3.849591016769409, 0.06714218109846115, 2.0515928268432617, 0.32029271125793457, 0.5623698830604553, -0.2553427219390869, 1.7427605390548706, 0.39270880818367004, -0.5866418480873108, -1.2176265716552734, -1.8234310150146484, -0.311540812253952, 1.2810713052749634, 1.536324143409729, -2.8469784259796143, -3.406705617904663, 0.21770982444286346, 2.284644842147827, -0.5804663896560669, -0.21079404652118683, 1.6461361646652222, 2.6393773555755615, 0.2045055478811264, 0.5020275115966797, 3.28859281539917, 1.7844915390014648, -0.5575008392333984]), {'id': 0, 'tile': 1, 'geometry': 2, 'embedding': 3})\n",
      "Row((21320940854880906, '36MWD', 'POINT(33.0997468192673 -1.20300871953751)', [3.7024309635162354, -0.032847337424755096, 2.037404775619507, 1.1015329360961914, 1.6945905685424805, -1.6221460103988647, 3.403571844100952, -0.01401042751967907, 2.7046759128570557, 1.573343276977539, 2.0774779319763184, -3.478165626525879, 0.18081426620483398, 0.5944582223892212, -1.2641152143478394, -0.0034921281039714813, -0.09850601106882095, 0.4917728900909424, -2.5631520748138428, 2.1682538986206055, 1.3733311891555786, -0.35704657435417175, 1.5992594957351685, -1.9406951665878296, -0.41376790404319763, 0.5935341119766235, 0.6318532824516296, -0.2735859453678131, -0.5511110424995422, 3.8058090209960938, -1.17116379737854, -1.4802281856536865, -2.776000738143921, 1.4846259355545044, -1.6769442558288574, -0.9975332021713257, -1.1194819211959839, -0.28711023926734924, 0.8971468210220337, 1.0471649169921875, -0.7553330063819885, -0.3758752644062042, 0.011514347977936268, -1.4765992164611816, 0.6759503483772278, 2.641632080078125, 1.4574110507965088, -0.5566792488098145, -0.2163611352443695, 0.788322925567627, 0.7155298590660095, 2.41115665435791, -1.0208103656768799, -1.8597158193588257, -4.5813703536987305, -0.4936763346195221, 2.232940673828125, -0.8172863721847534, -1.5402830839157104, -0.1274779587984085, -0.787376880645752, -1.7971125841140747, 2.5324583053588867, -0.9433392882347107, 1.988224744796753, 0.20943854749202728, -1.333123803138733, -2.8194632530212402, -0.47166818380355835, -0.58086097240448, -0.6382002830505371, 1.3559422492980957, 1.1354299783706665, -0.21089377999305725, 1.139257788658142, -2.4571797847747803, 0.6334371566772461, 0.7718658447265625, -1.2858237028121948, -5.660441875457764, -1.016205906867981, 1.2877291440963745, -3.9440293312072754, -1.7622278928756714, 2.022123336791992, 3.377251386642456, 2.641979455947876, -1.4346258640289307, -0.7321901917457581, -2.846842050552368, -0.32344236969947815, -2.4431562423706055, 1.5314438343048096, 0.20767243206501007, 1.1541515588760376, -0.9639686942100525, -1.4429813623428345, -0.383623868227005, -1.1830135583877563, -0.6759492754936218, -1.8088380098342896, 1.943353295326233, -1.2249729633331299, 0.17878463864326477, 0.5317897796630859, -0.23258671164512634, 2.0100176334381104, 0.22387848794460297, 3.029982328414917, 1.940090537071228, -0.32629287242889404, -0.3763439655303955, 1.2693629264831543, 1.1895753145217896, 2.8766396045684814, -0.25253671407699585, -0.5950905680656433, -1.1149499416351318, 0.9470804929733276, 0.4174981117248535, -0.23979808390140533, 1.3141676187515259, 0.9257786273956299, -0.26121896505355835, -0.14057235419750214, 1.6328754425048828, 0.41697627305984497, -1.5290143489837646, -0.5595955848693848, 0.8074991106987, 0.08266898989677429, -1.42451810836792, 2.2918951511383057, 0.18307921290397644, -2.7960455417633057, 0.3383496403694153, -0.568040668964386, -0.03952693194150925, 9.109086036682129, 0.8121486902236938, 1.023029088973999, -0.7343348264694214, -0.36264702677726746, 0.7247627377510071, 0.38083675503730774, -0.5570347309112549, 1.9778836965560913, -0.35693347454071045, -1.842932939529419, 2.7373404502868652, -0.8233004808425903, -3.033205032348633, 0.28421974182128906, 3.782025098800659, 1.4168200492858887, 1.3365159034729004, -0.018635038286447525, -3.331287145614624, 1.108176350593567, -0.4461119771003723, -0.9542467594146729, 0.9867096543312073, -0.64948970079422, 1.0314760208129883, -4.201844692230225, -2.751004219055176, -0.4811221957206726, -0.3538734018802643, -1.3964732885360718, 1.7181838750839233, -0.31143951416015625, -0.25880762934684753, 0.5763567090034485, -0.7336564660072327, 0.4225057363510132, -0.7584745287895203, 1.6838384866714478, 0.629874587059021, -1.7660253047943115, 1.2878237962722778, -0.18874940276145935, 1.704931378364563, -3.630596399307251, 0.21755893528461456, 0.4900827705860138, 0.840067446231842, -2.230095148086548, 3.1862893104553223, -1.0282357931137085, 1.2052606344223022, -1.2339518070220947, 0.6256893873214722, 0.2832361161708832, -1.5600918531417847, 1.1466892957687378, -0.5489675402641296, 0.9501981139183044, -0.23400528728961945, -2.3092267513275146, -0.2523643374443054, 1.338067889213562, -0.5616263151168823, 0.13723205029964447, 3.09851336479187, 1.079330325126648, 1.102874994277954, -0.5846243500709534, -1.734696388244629, -1.0473116636276245, 0.8815077543258667, 0.8916980624198914, -1.7673181295394897, -0.7260344624519348, -3.2920634746551514, 0.8267977833747864, 0.2873656153678894, 1.7191822528839111, -1.3535901308059692, -2.3956799507141113, -2.336998224258423, 1.3786793947219849, -0.9679638743400574, 0.40280118584632874, 0.47553133964538574, 1.476878046989441, 0.8196687698364258, 0.1808057427406311, 0.22079624235630035, 0.40801525115966797, -2.0397393703460693, 0.47835442423820496, 1.6539218425750732, -0.47433754801750183, -2.66451358795166, -0.3241693377494812, 1.915908694267273, -2.663907766342163, -1.0549876689910889, -1.6155351400375366, 2.235532760620117, -1.007550835609436, 0.8577081561088562, -0.7576042413711548, 1.0772875547409058, 0.0037347632460296154, -1.702008605003357, 0.1669939011335373, 0.5352592468261719, -0.3870335817337036, 3.314587116241455, -0.20399931073188782, -1.6936074495315552, -0.13168123364448547, 0.7253957986831665, 0.012799599207937717, -4.250372409820557, 0.8376336693763733, -1.39316725730896, -0.525498628616333, -2.160217046737671, -1.439147710800171, 1.0691841840744019, -0.7208074331283569, 1.2157111167907715, -1.1625460386276245, 1.820575475692749, -0.6812227964401245, 0.9475887417793274, -0.3867074251174927, 1.09812593460083, -2.057960033416748, 0.6183295249938965, -1.3707555532455444, 0.839191734790802, -3.7299184799194336, 0.20516236126422882, -1.6116219758987427, -0.6297745704650879, 1.0278280973434448, 2.517618417739868, -0.6610701680183411, -1.2778583765029907, -2.065634250640869, -0.823925793170929, 2.394362688064575, -5.101762294769287, 0.40935656428337097, 0.9232571721076965, -0.6421967148780823, 0.8680644631385803, -2.035360336303711, -1.3920276165008545, -0.995911180973053, 0.8069010376930237, -1.4394810199737549, -0.30993756651878357, 2.536423444747925, -2.014721632003784, -1.2020891904830933, -1.3554116487503052, -2.297058582305908, 0.7765340209007263, 4.035977363586426, 1.320103406906128, 1.5374870300292969, 0.49526453018188477, -0.1341623067855835, -1.73300039768219, 1.3177517652511597, 0.533292829990387, 1.964274287223816, 1.7450162172317505, -5.610543727874756, -0.39271944761276245, 0.27031242847442627, -1.5033998489379883, -1.290196180343628, 1.1625300645828247, 0.28319478034973145, 0.7879555821418762, -0.664760410785675, 2.2358672618865967, -0.12140709906816483, 1.0928646326065063, -1.2391986846923828, -1.1016688346862793, -1.4819191694259644, -0.7782280445098877, -0.6412342190742493, -0.18917910754680634, 1.165185809135437, -0.6577631235122681, -2.0151054859161377, -0.9031694531440735, 1.054978847503662, 0.5730307102203369, -0.5170831680297852, 0.25990086793899536, -1.9938030242919922, 0.6461260318756104, -0.344503790140152, 3.69407057762146, -0.6639198660850525, 0.3657386898994446, 0.21489426493644714, 1.3624277114868164, -0.10660598427057266, 1.0041576623916626, 0.022593345493078232, 1.6571035385131836, 0.2877401113510132, 1.0556169748306274, -0.1617424190044403, -0.6480410099029541, 1.9253495931625366, 0.33588072657585144, 1.4510526657104492, 1.2843763828277588, 0.7575393319129944, -0.3098428249359131, 0.2408931702375412, 1.159497618675232, -0.597323477268219, 2.8900225162506104, -0.2787158787250519, -1.331175684928894, -0.18168076872825623, 0.1693812608718872, -0.7290731072425842, -0.8812535405158997, 0.43924829363822937, -3.2622127532958984, -2.0557126998901367, 1.9383928775787354, 1.3733052015304565, -0.05175548419356346, 1.0428435802459717, 1.1511483192443848, 0.803725004196167, -1.1803165674209595, 0.21939316391944885, 1.9197776317596436, 1.4758000373840332, -0.9239927530288696]), {'id': 0, 'tile': 1, 'geometry': 2, 'embedding': 3})\n",
      "Row((21321113493321034, '36MWD', 'POINT(33.4308714541273 -1.00035133667635)', [3.1954612731933594, 0.3644729256629944, 1.737009882926941, 0.9873141050338745, 1.699775218963623, -1.3735898733139038, 3.057860851287842, -0.29225414991378784, 3.3245327472686768, 1.694286584854126, 0.23964563012123108, -2.4146571159362793, -2.1071817874908447, -0.8629271388053894, -2.2238810062408447, 1.0668113231658936, -0.6174113750457764, 1.816794514656067, -2.777050018310547, 0.3446325659751892, 0.539986252784729, -0.2460279017686844, 0.7262024879455566, -2.073863983154297, -1.06002676486969, 1.0455021858215332, 0.24042198061943054, -1.0431443452835083, -0.044328752905130386, 4.145381927490234, 0.5130692720413208, -2.3351404666900635, -2.069453001022339, 0.5978378057479858, -0.4275052547454834, -0.8885809183120728, 0.1077619269490242, -1.1259889602661133, 0.7019075155258179, 1.5715692043304443, -0.2164815068244934, -0.5314109921455383, -0.3607936203479767, -0.6839572191238403, 1.356494665145874, 3.2798514366149902, -0.07923593372106552, -1.1580946445465088, -1.348501205444336, 1.7119050025939941, -0.37932538986206055, 3.24276065826416, 0.521293580532074, 0.052193235605955124, -5.080691814422607, -0.9525683522224426, 1.2668395042419434, -1.4364445209503174, -1.3149595260620117, -0.886073648929596, -0.10276330262422562, -1.9309163093566895, 2.427441120147705, 1.082999587059021, 2.963632345199585, 0.9349071383476257, -0.35452961921691895, -2.15920352935791, 0.8989693522453308, -1.0722309350967407, 0.5097229480743408, 0.5798791646957397, -0.361642450094223, 0.033811356872320175, 1.1670572757720947, -1.7992298603057861, -0.08063283562660217, 1.1276769638061523, -2.5826303958892822, -4.969675540924072, -0.8758358359336853, 1.8156075477600098, -3.7861616611480713, -3.193499803543091, 0.8587237000465393, 1.5222772359848022, 3.567028760910034, -0.434942364692688, -0.8341073393821716, -0.8657223582267761, -0.5090954303741455, -2.2150681018829346, 0.9882498383522034, 0.3095329701900482, -0.6794112920761108, -1.1755354404449463, -0.6833741068840027, -0.5009365081787109, -1.3662701845169067, -1.4547464847564697, -2.4285995960235596, 2.673616409301758, -0.9729325771331787, -0.6684058308601379, 0.6422929763793945, -0.13217340409755707, 1.6035960912704468, 0.7326341867446899, 2.254148483276367, 2.772026538848877, 1.199562907218933, -0.4424704611301422, 1.093492031097412, 0.9351473450660706, 2.550694227218628, 0.5973529815673828, -0.6579445004463196, -2.3352227210998535, 1.2962515354156494, 0.10702575743198395, -0.36922162771224976, 2.0298445224761963, 0.25437870621681213, -0.003351342398673296, 0.3035908043384552, 1.8408677577972412, 1.4976131916046143, -0.9559041857719421, -0.21752028167247772, -1.241127371788025, -0.15524335205554962, -2.566351890563965, 1.5855233669281006, -0.07181330025196075, -3.303811550140381, 0.31045669317245483, -2.035754442214966, 1.0718448162078857, 7.204686164855957, 0.9052075147628784, 2.121457099914551, -0.15260031819343567, 0.4904867112636566, 1.5026530027389526, 1.0345791578292847, -0.5766893029212952, 1.872412919998169, 0.3706623613834381, -2.379093647003174, 2.5837855339050293, -1.1269384622573853, -2.2550246715545654, 0.7405294179916382, 3.1782588958740234, 1.3202239274978638, 1.4863859415054321, 1.0317013263702393, -4.089850902557373, -0.6751879453659058, -0.22913037240505219, -1.864654541015625, 2.1902613639831543, -0.7153647541999817, 1.8751579523086548, -3.657954692840576, -3.3096888065338135, -0.0004083999083377421, 0.6805108189582825, -1.447967290878296, 2.188433885574341, -0.688125729560852, 0.49046316742897034, 0.23098568618297577, -1.2327722311019897, 0.032931528985500336, 0.25753140449523926, 0.2898854911327362, 0.49502235651016235, -1.4162923097610474, 2.4370667934417725, 0.7857024669647217, 2.3874993324279785, -2.8234200477600098, 0.3488721549510956, -0.1588837206363678, -0.12509331107139587, -2.1072773933410645, 1.1696873903274536, -1.2547200918197632, 1.0648335218429565, -1.0972486734390259, 1.5552846193313599, 1.7283340692520142, -2.155607223510742, 0.5716306567192078, -0.6028085350990295, 1.2954485416412354, -1.7522022724151611, -3.878281593322754, -0.30782559514045715, 1.9594709873199463, -0.9438750743865967, 0.5254926085472107, 3.6660678386688232, -1.1148686408996582, -1.2864222526550293, 0.32793399691581726, -0.7301831841468811, -0.6946165561676025, 1.1159847974777222, 1.037187099456787, -1.9137781858444214, -1.3048056364059448, -4.796459197998047, 1.188258409500122, 2.0499093532562256, 0.24748970568180084, -0.2504081130027771, -2.8825976848602295, -3.6640429496765137, 2.6237545013427734, -1.3189960718154907, -0.7055912613868713, 0.4525713324546814, 0.4365402162075043, 0.0984518975019455, -0.09951259940862656, -0.0027770698070526123, 1.176252007484436, -0.8190680742263794, 1.2396888732910156, 1.987396478652954, 0.24570024013519287, -3.2593936920166016, -1.3876569271087646, 0.9602091908454895, -1.7482306957244873, -0.6768345832824707, -1.3945717811584473, 2.0406742095947266, -2.5153048038482666, 1.6972867250442505, 0.5379799008369446, 0.7867614030838013, 0.785590410232544, -2.2246129512786865, 0.7738028764724731, -0.11881451308727264, -1.5309791564941406, 2.9807913303375244, -1.2763079404830933, 0.11711709201335907, -1.1666759252548218, 1.4845564365386963, 0.25368961691856384, -4.312092304229736, 2.5744588375091553, -2.530984878540039, 0.7268552780151367, -1.7988612651824951, -1.1734157800674438, -0.6293610334396362, 0.7056307196617126, 1.2497410774230957, -1.0786664485931396, 2.359102487564087, 0.6593642234802246, -0.185238778591156, 0.44546958804130554, 3.1055030822753906, -2.5836901664733887, 1.2826247215270996, -1.619562029838562, 0.3913570046424866, -2.8247151374816895, 1.1332156658172607, 1.2771854400634766, 0.027684492990374565, 0.8254638910293579, 2.3360421657562256, 0.7035820484161377, -1.0626436471939087, -2.119121789932251, -2.0121476650238037, 1.9499890804290771, -5.886695861816406, 1.5867689847946167, 0.9186447858810425, -0.7050058841705322, 0.6558107137680054, -3.655027151107788, -2.5380680561065674, -0.9032732844352722, 1.348204255104065, -1.3429404497146606, -0.9094740748405457, 4.140034198760986, -1.8419533967971802, -1.8801058530807495, 0.1382921040058136, -0.8378056883811951, 0.2138511687517166, 2.9872162342071533, 2.2700345516204834, 1.2556211948394775, 0.4681167006492615, -0.7708672285079956, -4.137104034423828, 1.2019240856170654, 1.394073486328125, 1.5088517665863037, 0.20141717791557312, -5.305390357971191, 0.8048669099807739, 0.2886510491371155, -1.4056159257888794, -2.374864339828491, 1.7562059164047241, 1.1769413948059082, 0.422017902135849, -0.5893142819404602, 3.398878812789917, 0.26231691241264343, 1.55879545211792, -0.45372456312179565, -0.8710388541221619, -0.6505393385887146, -2.0787546634674072, -0.3087252974510193, -1.8886088132858276, 1.4181640148162842, 1.0951926708221436, -0.0919574499130249, 0.32789331674575806, 1.163191556930542, 0.9183418154716492, 0.4756634831428528, 0.00741190742701292, -2.3039536476135254, 0.2826180160045624, -2.075767755508423, 2.030451536178589, -0.8786264061927795, -0.420797735452652, 0.4871231019496918, -0.2534129321575165, 1.0604380369186401, 1.9058736562728882, -0.6696762442588806, 1.696933627128601, 0.18758279085159302, -0.5337688326835632, -0.4866701662540436, -1.5540049076080322, 2.7473902702331543, -1.400227665901184, 1.817262887954712, 1.6446102857589722, -0.15471519529819489, -1.1462465524673462, -0.6137341260910034, 0.056274935603141785, -1.498957633972168, 4.765522003173828, 1.7136025428771973, -1.9647630453109741, -0.7281231880187988, -0.41929319500923157, 0.0038849618285894394, -0.7212225794792175, 0.5875815153121948, -3.259539842605591, -2.440861701965332, 1.40049147605896, 2.4265265464782715, 1.004760503768921, 0.6797937154769897, 0.12917205691337585, 1.6851496696472168, -2.005505323410034, 0.34985217452049255, 1.7846132516860962, 2.5763378143310547, -1.9428834915161133]), {'id': 0, 'tile': 1, 'geometry': 2, 'embedding': 3})\n",
      "Row((21319486003095432, '36MWD', 'POINT(33.6731612624919 -1.68593695103644)', [3.2482962608337402, 0.8331129550933838, 3.986525058746338, 1.422523021697998, 1.6923179626464844, -0.45481568574905396, 0.5493181943893433, -0.568416953086853, 3.0601117610931396, -0.754636824131012, 2.4723317623138428, -2.594287157058716, 1.1876096725463867, -0.38007596135139465, -0.742314875125885, 0.8104718923568726, -0.4363139867782593, 0.6829705238342285, 0.4791398048400879, 2.2066869735717773, 1.7601468563079834, -0.10891034454107285, 0.758155107498169, 1.0197585821151733, -0.983027458190918, -0.237069770693779, 1.307602047920227, 1.2908762693405151, 1.440569281578064, 4.306155681610107, 1.84832763671875, -0.6176840662956238, -1.3055516481399536, 1.571204423904419, -2.8231210708618164, -2.5433974266052246, 1.0245518684387207, 0.4940384328365326, -0.19807057082653046, 2.3575868606567383, 1.2347432374954224, -0.26043516397476196, -1.743466854095459, -0.20520494878292084, 0.577711820602417, 2.2442800998687744, -0.8202164769172668, -1.9424173831939697, -1.0212147235870361, 0.3309671878814697, 1.8457605838775635, 2.4539272785186768, -0.7715582847595215, 1.5136433839797974, -5.016195774078369, 0.04440529644489288, 0.986410915851593, -1.2865817546844482, -1.4892805814743042, -0.3221451938152313, -3.452488899230957, 0.6033805012702942, 1.2363855838775635, 0.04147033765912056, 1.9980685710906982, -0.37781405448913574, 1.8617308139801025, -3.5575358867645264, 1.6267868280410767, -1.5118077993392944, 1.5369524955749512, 1.8687841892242432, 1.1938432455062866, 0.8683720827102661, 2.118304967880249, -2.3083133697509766, 0.34434568881988525, 0.8608273863792419, -3.0372018814086914, -4.339022159576416, -2.329942226409912, 2.777561902999878, -2.458346128463745, 0.7626486420631409, 1.4241429567337036, 0.9274860620498657, 0.65594881772995, -1.5403460264205933, -2.0271737575531006, -1.443056583404541, 0.2931705713272095, -1.8979228734970093, 3.041212797164917, 0.45569369196891785, -1.041345477104187, 0.6111213564872742, -1.0493168830871582, -0.3279123604297638, -1.238480567932129, -0.10752930492162704, 1.11727774143219, 1.5386371612548828, 0.2845233976840973, -0.24367476999759674, -0.3961442708969116, -0.8008102178573608, 2.0140907764434814, -0.327771931886673, 2.4508628845214844, 1.8814983367919922, -0.9634376168251038, 2.19191312789917, 0.9708771109580994, -0.15512952208518982, 1.343527913093567, 0.5671359300613403, -0.9788240194320679, -2.4042043685913086, 3.088226795196533, -0.15575015544891357, 1.5434789657592773, 3.436823606491089, 0.017055170610547066, 0.447573184967041, 0.49899932742118835, 1.1485618352890015, 2.4357035160064697, -1.4689444303512573, -0.4725242257118225, -0.4634600579738617, 1.7936770915985107, -1.8590450286865234, 2.1910901069641113, -0.5567459464073181, -1.213788628578186, 0.7310820817947388, 0.762251615524292, -0.968651294708252, 10.364477157592773, -1.147884488105774, 2.1333425045013428, -0.4205920100212097, -0.6192466616630554, -0.8389152884483337, 0.3358200192451477, 0.07972615957260132, 2.4494404792785645, 0.9694164395332336, -2.2524373531341553, 0.39709222316741943, -2.1594812870025635, -3.6510095596313477, -0.47566574811935425, 1.8559595346450806, 1.1396139860153198, 0.2834644615650177, -0.8688565492630005, -1.9755131006240845, 1.3304229974746704, 1.3933252096176147, 1.4725068807601929, 2.818021297454834, 3.332934617996216, -0.6712464094161987, -4.032673358917236, -1.9864095449447632, -0.06620188802480698, 1.5443394184112549, -1.9944647550582886, 1.1371839046478271, -2.0709376335144043, -1.380409598350525, -0.6618582010269165, -2.5985782146453857, 2.0718841552734375, -3.8677926063537598, -0.7383025884628296, -0.9026636481285095, -0.6439111828804016, 0.851047933101654, -0.32838958501815796, -3.0415003299713135, -3.161367654800415, -0.04205169156193733, 1.3570544719696045, 1.968214988708496, -3.8715994358062744, 0.531479001045227, -0.5191413164138794, 0.5417280197143555, -1.3147741556167603, -1.0537810325622559, -2.6747751235961914, -3.0026485919952393, 2.1136269569396973, 0.09787116199731827, 1.125929355621338, -0.9233912825584412, -0.485904335975647, -0.5720623135566711, 0.09467991441488266, -1.8895423412322998, -0.35131487250328064, 2.828592300415039, 1.2347266674041748, 0.8916073441505432, 1.1803690195083618, -2.4707822799682617, -0.724384069442749, 2.041088819503784, 2.0120060443878174, 0.44771018624305725, -1.8016328811645508, -2.6292765140533447, -1.7984625101089478, -1.742209792137146, -0.723556399345398, -0.3867659568786621, -2.1101632118225098, -0.8820686340332031, 0.5257519483566284, -0.13841480016708374, 0.47388631105422974, 2.109253168106079, 2.6887588500976562, 0.45192110538482666, 0.73626708984375, 0.6631645560264587, -1.0952602624893188, 0.9065387845039368, 0.2906886339187622, 1.3223239183425903, -1.4789167642593384, -1.6751611232757568, 0.43061473965644836, 2.128316879272461, -0.12447495758533478, 0.10901019722223282, -0.4368359446525574, 1.2478512525558472, -4.668067455291748, 1.2498780488967896, -0.45333537459373474, 0.04902559518814087, 0.27734264731407166, -1.4703269004821777, -0.7143102288246155, -0.11252378672361374, -0.06046110391616821, 2.115483522415161, -1.0304558277130127, -3.801229476928711, -0.27697598934173584, 0.45935148000717163, 2.8783864974975586, -2.569554090499878, -0.40199074149131775, -1.1804229021072388, -0.4702138900756836, -0.9769037961959839, -1.2576416730880737, 0.40977126359939575, -0.3078352212905884, 0.5523887872695923, -4.451176166534424, 2.4068024158477783, -1.7990591526031494, 1.1018664836883545, -0.24322381615638733, 0.4458427131175995, -2.2257802486419678, -2.0001893043518066, 1.479795217514038, 0.6149795651435852, -2.8162360191345215, 1.585654377937317, 1.6476608514785767, 1.8711448907852173, 0.42520371079444885, 1.8218125104904175, -0.1408175379037857, -3.1172215938568115, -3.311974287033081, -2.5984385013580322, 1.6819462776184082, -4.316106796264648, 1.9790492057800293, -2.373126268386841, -1.1367568969726562, -2.8286478519439697, 0.9598538279533386, -0.9887287020683289, -2.515246868133545, 0.5829305648803711, -2.440692663192749, -1.9672585725784302, 2.1167421340942383, -0.7074825763702393, -0.5617249608039856, 1.478162169456482, -0.9202091097831726, -0.07636614143848419, 1.6011649370193481, 0.5482470393180847, 1.1488678455352783, 1.7029234170913696, 1.744309425354004, -2.073847770690918, 1.6843798160552979, -1.9832446575164795, 2.0241031646728516, -0.8790715336799622, -4.489157676696777, 0.11478894203901291, 0.1278555691242218, 0.6919375061988831, -0.20760312676429749, 0.048071205615997314, 0.18473948538303375, -0.13384772837162018, 0.3542810082435608, 4.3893351554870605, -2.3879759311676025, 3.8606936931610107, 0.7440544366836548, 0.37310463190078735, -1.5072484016418457, -3.5573341846466064, -1.6483556032180786, -0.34813570976257324, -1.5615843534469604, -0.8623397946357727, -0.8497351408004761, 0.11253543198108673, 0.39768412709236145, 0.4188475012779236, -0.7231125831604004, -0.18271878361701965, -1.7120862007141113, 0.9010885953903198, 0.03140809386968613, 3.591707468032837, 1.2432012557983398, -0.2421552985906601, 0.735774040222168, 0.5024033784866333, -0.6671233177185059, -3.2562661170959473, -0.9389956593513489, 1.7221674919128418, -0.49829015135765076, 2.60876727104187, 0.5969958305358887, -0.10461073368787766, 1.4780710935592651, -0.7723376154899597, -0.7883580923080444, 3.2922186851501465, -1.3965781927108765, 1.8124432563781738, -1.2672427892684937, 0.49172112345695496, 0.22775046527385712, 3.517463445663452, 1.134872555732727, 0.30465883016586304, -1.626366376876831, -2.646291494369507, -0.6949831247329712, 1.6447447538375854, 0.49328890442848206, -1.643207311630249, -3.350493907928467, -0.4517190456390381, 1.0339503288269043, 0.016635682433843613, -0.4617883563041687, 1.7583916187286377, 1.8301212787628174, 0.6382431387901306, 1.0462080240249634, 2.744891405105591, 1.9053455591201782, 0.606752336025238]), {'id': 0, 'tile': 1, 'geometry': 2, 'embedding': 3})\n",
      "Row((21319473250964539, '36MWD', 'POINT(33.4184859450262 -1.58820147561405)', [4.505733966827393, -0.46358129382133484, 1.386869192123413, 1.286967158317566, 1.7812411785125732, -2.3257646560668945, 3.4147071838378906, -0.3836802542209625, 3.622211456298828, 1.233559250831604, 1.6653258800506592, -1.9000617265701294, -0.38763025403022766, -0.1909155696630478, -0.6341479420661926, 0.597082257270813, 0.5444768667221069, 0.13512814044952393, -2.3050410747528076, 2.160099983215332, 1.625472903251648, 0.21539320051670074, 1.0990204811096191, -2.457980155944824, -0.6767860651016235, 0.7512921094894409, 0.7403390407562256, 0.8654119968414307, -0.927273154258728, 2.45688533782959, -1.1819438934326172, -0.8151203989982605, -2.4043543338775635, 0.8098353743553162, -1.1093578338623047, -1.8926029205322266, 0.21831847727298737, 0.6727585196495056, 0.34792813658714294, 0.5980563163757324, -0.22802574932575226, -0.6195629835128784, -1.6096763610839844, -2.4922046661376953, 0.2653287947177887, 2.685926914215088, 0.015237070620059967, -0.13555683195590973, 0.3368551731109619, 1.463110089302063, -0.17252634465694427, 2.585509777069092, 0.5002008080482483, -1.5430636405944824, -3.6204864978790283, -1.1689499616622925, 2.0697290897369385, -0.928112804889679, 0.12100563943386078, -1.015305519104004, -1.7372217178344727, -1.807106614112854, 1.2756085395812988, 0.015047231689095497, 1.5160589218139648, -0.8181129693984985, -0.04896051809191704, -2.5559465885162354, -0.39513251185417175, -1.7820041179656982, 0.9121542572975159, 1.660944938659668, 0.6208510398864746, 0.619648814201355, 1.6371753215789795, -3.4729580879211426, -0.6029292345046997, 0.9427131414413452, -2.2621164321899414, -5.57596492767334, -0.6542904376983643, 0.789013683795929, -2.6052796840667725, -1.6629198789596558, 2.055523157119751, 2.485276937484741, 3.2837202548980713, -0.6401702165603638, -1.7743958234786987, -2.143251419067383, 0.21255360543727875, -1.9536978006362915, 1.1169732809066772, 0.7420855760574341, 0.9423182606697083, -1.6584224700927734, -1.0864081382751465, -1.8090007305145264, -0.7304425835609436, 0.23064763844013214, -1.0010801553726196, 1.4250373840332031, -0.8385979533195496, 1.1648657321929932, 1.1661068201065063, -0.29550641775131226, 1.2460684776306152, 0.7559863924980164, 3.669658660888672, 1.9720051288604736, 0.2850780785083771, 0.9559271335601807, 1.0389114618301392, 0.7227900624275208, 2.609767436981201, 0.3119460940361023, -1.969006061553955, -0.06511286646127701, 1.66615891456604, 0.6622051000595093, -0.5254645943641663, 1.0172784328460693, 0.23720526695251465, 0.08846709132194519, 0.6098589301109314, 1.1540324687957764, 0.7049335837364197, -1.4440864324569702, -0.8053105473518372, -0.10032040625810623, -0.9900659918785095, -0.9856067895889282, 1.6736805438995361, -0.15712200105190277, -3.4836461544036865, 0.1120419055223465, 0.17217013239860535, -0.029269570484757423, 9.355204582214355, 0.5249519944190979, 0.7779167890548706, 0.7570086717605591, -0.3218710422515869, 0.11766500025987625, 0.9239346385002136, -1.8743963241577148, 1.5047063827514648, -0.9092437624931335, -2.205037832260132, 3.3136184215545654, -1.4382553100585938, -2.5182621479034424, -0.12059532850980759, 2.7358570098876953, 0.6821624040603638, 1.024997353553772, 0.7829851508140564, -3.398134231567383, 1.085665225982666, 0.7192415595054626, -0.7853176593780518, 2.38642954826355, -0.24888423085212708, 0.4697394073009491, -5.177145004272461, -1.7005467414855957, -0.43082955479621887, 0.1008279025554657, -1.103417158126831, 2.8710715770721436, -0.7359771132469177, -0.3045654892921448, 0.058915380388498306, -0.5245544910430908, 0.6617581844329834, -0.6919829845428467, 1.2715309858322144, 0.1996936798095703, -1.3644516468048096, 0.5963671207427979, -0.9747591018676758, 0.9058468341827393, -2.383399724960327, 0.07540691643953323, -0.08708266913890839, 0.3533441126346588, -2.5050137042999268, 2.11733078956604, -1.2704671621322632, 1.6297529935836792, -1.4103789329528809, 0.4784926176071167, 0.5666840672492981, -1.222215175628662, 0.6899237036705017, -0.5947598814964294, -0.22661593556404114, -1.018448829650879, -3.0426082611083984, 0.4386216998100281, 0.9772984385490417, -0.530949592590332, 1.1062780618667603, 2.0754473209381104, 1.598752737045288, 0.4800141453742981, 0.26973915100097656, -2.040576696395874, -0.9508318305015564, 0.5372283458709717, 0.6176392436027527, -2.389333724975586, -0.3577001988887787, -3.322592258453369, 0.3217873275279999, -0.3828084170818329, 1.4286302328109741, -1.384942889213562, -2.7020444869995117, -0.9283068180084229, 1.5556644201278687, -1.2341238260269165, 0.6419468522071838, 0.6859461069107056, 1.5969574451446533, 0.023908110335469246, 0.1376570165157318, 0.523591160774231, 1.2010198831558228, -2.1344282627105713, -0.48379436135292053, 2.5491902828216553, 0.03918052464723587, -1.8943685293197632, 1.0966455936431885, 0.538689911365509, -2.148016929626465, -2.3472728729248047, -3.3757057189941406, 3.49869966506958, -1.6968554258346558, 0.4559219181537628, -0.8073160648345947, 0.36429592967033386, -0.24653244018554688, -0.972298800945282, 0.22976689040660858, 0.14707128703594208, -1.5383962392807007, 1.9553651809692383, -0.41082826256752014, -1.3310775756835938, -0.7420395016670227, 1.6700857877731323, -0.3722735643386841, -4.398698329925537, 0.8446089625358582, -2.1430442333221436, -0.7055200338363647, -2.33981990814209, -1.7074990272521973, 0.6856541633605957, -1.3163185119628906, 0.8734123706817627, -1.301485538482666, 2.1062450408935547, -1.371370792388916, 0.3907557427883148, 0.6390113830566406, 1.5249054431915283, -2.2468204498291016, 0.7001596093177795, -1.2742409706115723, -0.43532422184944153, -3.3113512992858887, -0.1882532835006714, -0.6406528949737549, -0.21167662739753723, 1.4921704530715942, 3.102139949798584, -0.8731490969657898, -2.446521759033203, -2.2077596187591553, -0.9098504185676575, 1.8026748895645142, -5.1487860679626465, 0.29064083099365234, 0.27129149436950684, -1.3825355768203735, 0.6868915557861328, -1.2738304138183594, -1.7875946760177612, -1.0140286684036255, 1.5354491472244263, -1.5438209772109985, -0.20162788033485413, 3.0544469356536865, -1.6586307287216187, 0.06275004148483276, -1.5986862182617188, -1.8370835781097412, 0.6207255721092224, 3.9993770122528076, 1.387003779411316, 2.237701654434204, 0.1483585238456726, -0.36073699593544006, -2.205911636352539, 1.7735060453414917, 0.5401336550712585, 2.373471736907959, 1.197356104850769, -5.384397029876709, -0.5623828768730164, 1.8488985300064087, -0.871150016784668, -0.7077139616012573, -0.4038388133049011, -0.6404424905776978, -0.2669290006160736, 0.5919027924537659, 3.2995235919952393, -0.5858213901519775, 0.508256196975708, 0.4245762228965759, -1.0697237253189087, -2.8314101696014404, -0.8142675161361694, -1.527992844581604, 0.030868619680404663, -0.384334534406662, -1.707977533340454, -1.2925629615783691, 0.8031545281410217, 1.6405055522918701, 1.1272108554840088, 0.11724966764450073, -0.6702697277069092, -1.9103100299835205, 1.313862681388855, -0.6441555619239807, 3.6815431118011475, 0.7424355149269104, -0.7347816228866577, 1.509660005569458, 1.2452678680419922, 0.9226353764533997, 0.5294138193130493, -0.43116235733032227, 1.6252286434173584, 0.26824554800987244, 1.1556707620620728, 0.2228119969367981, -0.6702103018760681, 2.436041831970215, -0.43271082639694214, 0.16421329975128174, 1.485073447227478, 0.8396407961845398, -1.3725131750106812, -0.13934123516082764, 0.7404341101646423, -0.6565910577774048, 3.2518656253814697, -0.260489821434021, 0.07127905637025833, -0.2889961898326874, -0.22648677229881287, -0.3900403678417206, -0.4640667140483856, -0.8733882308006287, -3.0118236541748047, -3.0734362602233887, 1.0018953084945679, 1.6607264280319214, 0.3588785231113434, 1.2097139358520508, 1.0135080814361572, -0.44338932633399963, -0.3469087779521942, 0.7585400342941284, 2.207406997680664, 1.5577296018600464, -1.254000186920166]), {'id': 0, 'tile': 1, 'geometry': 2, 'embedding': 3})\n",
      "Row((21319487306512579, '36MWD', 'POINT(33.7349917319721 -1.68162509182662)', [3.3364264965057373, 0.18903115391731262, 3.304523229598999, 0.9064475893974304, 0.6499580144882202, 0.25700846314430237, 1.5795414447784424, 0.6266799569129944, 2.244251012802124, 0.535923182964325, 1.3488742113113403, -3.196871757507324, 0.9091860055923462, -0.11155980825424194, -0.10418213903903961, -0.0687643438577652, 0.013362783007323742, 1.8177400827407837, 0.733992338180542, 1.834639072418213, 2.174941301345825, 0.820589005947113, -0.4733881950378418, 0.7429036498069763, -1.0882647037506104, -0.7233175039291382, 1.7911111116409302, 0.3451871871948242, 1.655120849609375, 4.444523811340332, 0.4228450059890747, -1.587565541267395, -2.29325532913208, 1.6711891889572144, -2.1128571033477783, -1.491172194480896, 0.6207098960876465, -0.06973274052143097, -0.6433026790618896, 1.1984306573867798, -0.44638118147850037, -1.4573979377746582, -0.4106285572052002, 0.8607967495918274, 1.4235337972640991, 2.256899833679199, -1.311345100402832, -1.3185920715332031, 0.4344657063484192, 0.16502131521701813, 0.9498441815376282, 1.5196101665496826, -1.1285840272903442, 1.3147979974746704, -5.203711986541748, 0.8175696134567261, 0.9872043132781982, -0.6616799831390381, -2.413424253463745, -0.81041020154953, -2.319728136062622, 0.5278271436691284, 1.4711732864379883, 0.6436357498168945, 2.250110387802124, -0.8247066140174866, -0.05592776834964752, -4.069088935852051, 0.6158998012542725, -1.2287018299102783, 0.8221670985221863, 1.2736780643463135, 0.9339594841003418, 1.6605992317199707, 2.4466137886047363, -1.3175443410873413, -0.21327993273735046, 0.18742643296718597, -1.416914463043213, -4.641216278076172, -2.224303722381592, 2.9887139797210693, -2.2379469871520996, 0.5154083967208862, 3.0078625679016113, 0.7346159219741821, 1.4764916896820068, -1.4330265522003174, -1.1439002752304077, -2.2691547870635986, -0.018676869571208954, -2.6978132724761963, 2.9155125617980957, 1.3161622285842896, -0.9167006611824036, -0.018170254305005074, -0.9389432668685913, -0.3973608613014221, -0.42483237385749817, -0.022150183096528053, 0.21010379493236542, 0.8549453616142273, 1.477748990058899, 1.4826675653457642, -0.5589377880096436, 0.11490567773580551, 2.4208104610443115, -0.24177445471286774, 2.3637263774871826, 1.9656671285629272, -1.1801685094833374, 1.691344141960144, 0.050411392003297806, -0.9817905426025391, 1.334330439567566, 0.20116624236106873, -1.0044422149658203, -2.6647658348083496, 2.4959356784820557, -1.024344801902771, 1.6643171310424805, 2.890810489654541, -0.8092383146286011, -0.7004058957099915, 0.39486607909202576, 0.7220166325569153, 2.1631369590759277, -1.895602822303772, -0.4933370351791382, -0.6971572041511536, 2.415731906890869, -3.053481101989746, 3.213325262069702, -0.40409716963768005, -2.288461446762085, 1.3126506805419922, 0.05549662932753563, 0.005671252962201834, 10.861112594604492, -0.4307146966457367, 2.2801191806793213, 0.07954784482717514, -0.9918638467788696, 0.04073825478553772, -0.6405664086341858, 0.24812088906764984, 1.6512629985809326, 0.6640520095825195, -2.1585423946380615, 1.0793068408966064, -2.5648107528686523, -3.5144076347351074, -0.5479419231414795, 1.7462706565856934, 0.8756234049797058, 1.4396793842315674, 0.11551374197006226, -2.443998098373413, 1.063564419746399, 0.2214713841676712, 0.40287837386131287, 3.4731123447418213, 3.771245241165161, -0.3011986315250397, -3.654301404953003, -2.848376750946045, -1.271185040473938, 1.5138323307037354, -1.014303207397461, 1.6596400737762451, -2.2777791023254395, -0.8756710290908813, 1.2733083963394165, -0.659826397895813, 2.245701789855957, -1.769044280052185, -0.21527467668056488, -1.6185458898544312, -1.0495507717132568, -0.10656458139419556, 0.783920407295227, -1.7537859678268433, -2.858630895614624, -0.06830829381942749, 1.2416813373565674, 1.2618486881256104, -3.1455307006835938, -0.1420673429965973, -0.7271330952644348, 0.9817466139793396, -1.059950828552246, -0.0468926765024662, -1.6467925310134888, -1.3102296590805054, 0.8489025831222534, 0.06485862284898758, 1.964666724205017, -0.2835015058517456, -0.823943555355072, -0.168655663728714, 1.8815195560455322, -1.8909261226654053, -0.7542253136634827, 2.6476998329162598, 1.5210622549057007, 0.6021824479103088, 0.10300222784280777, -1.61257803440094, -1.0094599723815918, 1.70433509349823, 1.1741089820861816, 0.05436575040221214, -3.062129497528076, -3.098129987716675, -1.8384208679199219, -1.026328206062317, -0.19595716893672943, -1.485501766204834, -1.8737738132476807, -2.761538505554199, 0.8733004927635193, -0.8310021162033081, 0.6442227959632874, 2.1477041244506836, 2.475813865661621, 0.17903423309326172, 1.026458978652954, 0.388644814491272, -0.5889083743095398, 0.6368952393531799, 1.2239573001861572, 1.052541732788086, -0.7761544585227966, -2.1626038551330566, -1.5892404317855835, 1.5921874046325684, -0.8379947543144226, 0.48605334758758545, -0.2048184871673584, 2.13352632522583, -4.584684371948242, 1.1224440336227417, -0.4164370596408844, 0.13675284385681152, 0.7230744957923889, -1.430696725845337, 0.14572806656360626, -1.0269595384597778, 0.12372466176748276, 3.7886314392089844, -2.2762796878814697, -3.8150789737701416, -1.2395774126052856, -0.4108218252658844, 3.376398801803589, -1.0724589824676514, -1.1418745517730713, -0.7777976393699646, 0.2050204873085022, -2.0011491775512695, -1.0847257375717163, 0.6080043911933899, -0.06922923028469086, 0.48702213168144226, -4.154778480529785, 1.7632437944412231, -0.09641779959201813, 0.2561753988265991, -0.03239535540342331, 0.07948817312717438, -2.0161335468292236, -1.9886341094970703, -0.6731172204017639, 0.31773823499679565, -2.8501834869384766, 1.2272729873657227, 0.9043359160423279, 1.3799258470535278, 0.9245047569274902, 1.1540495157241821, -0.4096341133117676, -3.070957660675049, -2.3134262561798096, -1.424652099609375, 1.7616358995437622, -4.997641563415527, 2.0148463249206543, -1.698983073234558, -0.5978273749351501, -2.5149357318878174, -0.9292181730270386, -1.7308833599090576, -1.0127049684524536, 0.16309119760990143, -2.6898980140686035, -1.806200385093689, 2.9029107093811035, -0.9363343715667725, 0.1922064572572708, 1.363247036933899, -1.9230810403823853, 0.010783943347632885, -0.029789799824357033, 0.12800097465515137, 1.249284029006958, 0.9490756392478943, 1.0677205324172974, -2.417076349258423, 1.9678325653076172, -0.6861552000045776, 1.9255083799362183, 0.14208604395389557, -4.268651485443115, -0.42460888624191284, 0.13361765444278717, 0.49225330352783203, -0.7846837043762207, -0.528728723526001, 0.5751320123672485, -0.24407890439033508, -0.07985857129096985, 5.0701823234558105, -2.0116286277770996, 3.6894636154174805, -1.1981475353240967, 0.17585021257400513, -1.0260024070739746, -3.077986717224121, -1.7178391218185425, -0.8764176368713379, -0.523690938949585, -0.31514087319374084, -1.1934411525726318, 0.5339873433113098, 1.1444274187088013, 0.8778350949287415, -1.0097925662994385, 0.5284709930419922, -1.3786348104476929, 0.34924861788749695, 0.8659763336181641, 3.003695487976074, 0.06990069150924683, -0.912675678730011, 0.7306438088417053, 1.408718228340149, -0.10018619894981384, -2.418987989425659, -0.6790570020675659, 1.8928940296173096, -0.7899059653282166, 2.267235279083252, 1.0685338973999023, -0.9213137626647949, 1.3350166082382202, -1.0655323266983032, -0.346423864364624, 3.8877928256988525, -0.39969342947006226, 1.4746601581573486, 0.18353530764579773, 0.8244603276252747, -0.4058877229690552, 2.3404922485351562, 1.3614189624786377, -0.2588941156864166, -1.272531509399414, -1.0453181266784668, -0.09577959030866623, 1.788126826286316, 1.0860522985458374, -2.435012102127075, -2.945711851119995, 0.12358792871236801, 1.7840248346328735, -0.23564603924751282, -0.24901710450649261, 0.6267639994621277, 3.1563303470611572, 0.5184605717658997, 1.0938657522201538, 2.8036680221557617, 1.782871961593628, -0.5316661596298218]), {'id': 0, 'tile': 1, 'geometry': 2, 'embedding': 3})\n",
      "Row((21319444372026491, '36MWD', 'POINT(33.2133614492476 -1.42435082564119)', [4.332357406616211, 1.063615322113037, 2.515125274658203, 0.4146375060081482, 1.3420894145965576, -0.5426459908485413, 4.079840183258057, 0.13186773657798767, 3.223065137863159, 2.0502824783325195, 1.8298202753067017, -3.4456098079681396, -0.5463053584098816, -0.7773009538650513, -1.9423701763153076, -0.5879067778587341, -0.011386009864509106, 0.5637866258621216, -2.602544069290161, 2.5307276248931885, 1.6121418476104736, -0.21472416818141937, 1.7411068677902222, -2.6727406978607178, -0.2247420996427536, 0.15643566846847534, 0.2401963621377945, -0.6272140145301819, -0.44551849365234375, 4.610232353210449, -1.0924556255340576, -2.610246181488037, -2.797997236251831, 1.3598183393478394, -1.5451058149337769, -0.9652627110481262, -0.7292206883430481, -1.7567999362945557, 0.7378615140914917, 0.6427378058433533, -0.8168824911117554, -0.04239727556705475, 0.08371146768331528, -0.6884413361549377, 0.8136176466941833, 3.2878034114837646, 1.6982709169387817, -0.43318793177604675, -1.0303560495376587, 0.37545037269592285, 0.7694180011749268, 3.068599224090576, -1.1683017015457153, -1.0464740991592407, -5.664975166320801, -0.2675861120223999, 2.403519630432129, 0.22463536262512207, -2.5851998329162598, -0.1997733861207962, 0.20929329097270966, -2.2473819255828857, 3.2342851161956787, -0.9679437279701233, 2.760056495666504, -0.30435049533843994, -1.9971946477890015, -2.808795690536499, 0.06414810568094254, -0.19916477799415588, 0.1647671014070511, 1.242061972618103, 1.7923674583435059, -0.5866179466247559, 0.03260102868080139, -2.3536760807037354, 0.38017627596855164, 0.40451064705848694, -1.6179649829864502, -5.007509708404541, -0.7998278141021729, 1.5228815078735352, -5.076988220214844, -2.0291199684143066, 1.8015397787094116, 2.938840627670288, 1.3314875364303589, -1.7111071348190308, 0.31187036633491516, -3.0367729663848877, -0.7991132736206055, -2.2401039600372314, 2.064824342727661, -0.2635034918785095, -0.10468674451112747, -0.7246631383895874, -1.7663403749465942, 0.6873375177383423, -0.40349578857421875, -0.8578264117240906, -2.279515504837036, 2.6682047843933105, -1.4337488412857056, 0.22368209064006805, 0.47865545749664307, -0.12541647255420685, 1.7939823865890503, -0.9048356413841248, 3.049527406692505, 2.4981584548950195, -0.8914530873298645, 0.02834073081612587, 1.5088326930999756, 1.3480817079544067, 2.565052032470703, 0.3904399573802948, -0.9030147790908813, -1.716196894645691, 0.6775969862937927, 0.6986780166625977, -0.5277602672576904, 0.997506856918335, 1.40969979763031, -0.7637143135070801, -0.10054188966751099, 1.681538701057434, 0.2098214328289032, -0.9065057039260864, -0.01873105578124523, -0.14998246729373932, 0.49420595169067383, -2.6803698539733887, 1.7133539915084839, -0.46881023049354553, -3.3815386295318604, -0.061582691967487335, -0.19536934792995453, 0.2554989159107208, 7.963560581207275, -0.12002711743116379, 1.529667615890503, -1.324257254600525, -0.25853613018989563, 1.206019639968872, -0.740556001663208, -0.3911261558532715, 2.2522854804992676, 0.36005520820617676, -1.4304015636444092, 3.281621217727661, -1.496074914932251, -2.8535587787628174, 0.5236958861351013, 3.6298294067382812, 2.2110841274261475, 1.742938756942749, 0.7174120545387268, -2.8642241954803467, 1.1405256986618042, -0.5243625044822693, -1.1349608898162842, 1.1776758432388306, 0.17755767703056335, 0.3547397553920746, -3.0900025367736816, -3.010201930999756, -0.46173760294914246, -0.14512979984283447, -1.4225280284881592, 0.7082921266555786, 0.3661350607872009, 0.4587857127189636, 1.1483240127563477, -1.0088026523590088, 0.4950268864631653, -1.4901667833328247, 0.6721687316894531, 0.5581302046775818, -0.988974928855896, 2.4261655807495117, -0.14965446293354034, 1.6722500324249268, -4.049507141113281, -0.5507544875144958, -0.10957977920770645, 1.5353516340255737, -1.6330010890960693, 3.10158371925354, -0.6875920295715332, 1.0256567001342773, -0.5664895176887512, 0.9412535429000854, -0.831214189529419, -2.747819662094116, 1.7029341459274292, -0.18974748253822327, 1.8094571828842163, 1.1706490516662598, -1.5415278673171997, -0.7021229863166809, -0.009782081469893456, -0.4067259728908539, 0.5682410597801208, 2.076653480529785, 0.8698986172676086, 1.7865785360336304, -1.0798349380493164, -2.3017938137054443, -1.1033297777175903, 1.132690191268921, 0.49991559982299805, -1.9482061862945557, -1.2146258354187012, -2.862461566925049, 1.7323274612426758, 1.6964941024780273, 1.8702036142349243, -1.35248863697052, -2.2040657997131348, -3.038727045059204, 1.7473524808883667, -0.988899827003479, 0.24964119493961334, -0.0072277807630598545, 1.671190857887268, 0.8944499492645264, 0.9080285429954529, 0.40491122007369995, 0.36176320910453796, -1.1069445610046387, 0.9820829033851624, 2.622617244720459, -1.2276530265808105, -3.869929552078247, -0.5420330762863159, 1.783017635345459, -2.1916143894195557, 0.08720727264881134, -1.2694354057312012, 2.1942148208618164, -1.0912474393844604, 0.055115289986133575, -0.004438305739313364, 1.7832385301589966, 1.247102975845337, -2.132033348083496, 0.18554149568080902, 0.23905791342258453, -0.33380937576293945, 3.612987518310547, -0.3305077850818634, -2.0292840003967285, -0.5545434951782227, 1.144677996635437, 0.7988472580909729, -3.7424473762512207, 0.5675122737884521, -2.387721300125122, -0.4180406332015991, -2.068563461303711, -1.570969581604004, 0.4438026547431946, -0.6454519033432007, 0.6577050685882568, -1.3839151859283447, 1.214753270149231, -0.6681362390518188, 0.37155836820602417, -0.29213932156562805, 2.0530810356140137, -2.943891763687134, -0.05827859044075012, -0.5708370208740234, 0.39072385430336, -4.299493789672852, 0.9589394927024841, -0.9133060574531555, 0.48680827021598816, 0.5676428079605103, 2.2824792861938477, -0.907726526260376, -1.7892431020736694, -1.5375512838363647, -0.9857563376426697, 2.799139976501465, -5.210233211517334, 0.17486245930194855, 0.4478214383125305, -0.2699061632156372, 1.1986920833587646, -2.5865442752838135, -1.3407981395721436, -1.496119499206543, 1.0346181392669678, -1.5125380754470825, -1.4142825603485107, 2.704599618911743, -1.4378690719604492, -0.8436009287834167, -0.7137584686279297, -1.4447249174118042, 0.7639277577400208, 3.22104811668396, 1.2283997535705566, 0.20797669887542725, 0.248918816447258, -0.13511840999126434, -1.173420786857605, 1.686633825302124, 0.6583076119422913, 2.521810293197632, 1.3251243829727173, -5.637050628662109, -0.25983190536499023, 0.47503945231437683, -2.17712140083313, -0.9429925680160522, 0.7726904153823853, 0.7975265979766846, 0.6578428745269775, -1.0227432250976562, 2.7530064582824707, -0.8420262932777405, 1.3870360851287842, -1.7869302034378052, -1.1712863445281982, -0.46387097239494324, -0.9618799686431885, -0.5363047122955322, 0.7219703793525696, 1.7191838026046753, -1.1772377490997314, -2.6099886894226074, -1.4307761192321777, 1.4898395538330078, 0.5316137671470642, -0.11730240285396576, -0.06135397031903267, -1.8881844282150269, 1.356650710105896, -0.9208258390426636, 3.5864877700805664, -0.6310447454452515, 0.1889810711145401, 0.107792928814888, 1.4334133863449097, -0.9266582131385803, 0.3965427279472351, 0.07583080977201462, 1.5116527080535889, -0.21355178952217102, 0.17760249972343445, -0.8782369494438171, -0.4964977204799652, 2.7301907539367676, -0.10049787163734436, 1.2551276683807373, 0.6822459697723389, -0.2543969750404358, 0.3994045555591583, -0.021108129993081093, 0.5827195644378662, 0.4628835618495941, 2.9496262073516846, 0.22814421355724335, -1.615952491760254, -0.3688504993915558, 0.08563213050365448, -0.4814324676990509, -1.4984652996063232, 1.4392366409301758, -2.7005808353424072, -2.2981760501861572, 1.7372770309448242, 1.590923547744751, 0.29810935258865356, 1.989478588104248, 1.3642773628234863, 1.9214950799942017, -2.057725667953491, 0.26957160234451294, 2.372880220413208, 1.5930787324905396, -1.0177582502365112]), {'id': 0, 'tile': 1, 'geometry': 2, 'embedding': 3})\n",
      "Row((21319479645837136, '36MWD', 'POINT(33.5819393184106 -1.71899453831167)', [4.049858093261719, -0.49611496925354004, 1.0646973848342896, 1.0354211330413818, 2.3691418170928955, -1.8908112049102783, 2.5281760692596436, 0.36216580867767334, 4.083855152130127, 0.9724714159965515, 1.2106125354766846, -2.0563461780548096, 0.0008234895067289472, -0.4187183380126953, -1.0575425624847412, 1.0094588994979858, 0.14987429976463318, 0.1291118860244751, -2.1188085079193115, 2.0957086086273193, 0.608988344669342, -0.3406924605369568, 0.5004137754440308, -2.1513094902038574, -0.8924813270568848, 0.8760322332382202, 0.9562159776687622, 0.3628460764884949, -0.6243148446083069, 2.657999038696289, -1.2033650875091553, -1.0588181018829346, -2.607991933822632, 0.7804747223854065, -1.395434021949768, -1.8399969339370728, 0.42930811643600464, 0.2796710133552551, 0.6713361144065857, 0.8313152194023132, 0.06906105577945709, -0.917533814907074, -1.4105876684188843, -1.4345365762710571, 0.35191527009010315, 2.6086246967315674, 0.08479861915111542, 0.3480294346809387, 0.8621087670326233, 1.1493284702301025, -0.3002432584762573, 3.3060216903686523, 0.7411361932754517, -1.9827227592468262, -3.18658447265625, -1.2766239643096924, 1.880174994468689, -1.2811005115509033, 1.167535424232483, -0.5877825617790222, -0.868973433971405, -2.1613285541534424, 1.6548266410827637, 0.327335387468338, 0.9802505970001221, -0.5996456742286682, 0.6840193271636963, -2.861354112625122, -0.09463544189929962, -1.88399076461792, 1.2760815620422363, 1.3694936037063599, 0.4397418200969696, 0.5715808272361755, 2.393540859222412, -3.34075665473938, -0.8392068147659302, 0.47609424591064453, -1.822472333908081, -5.523584842681885, -0.8512986898422241, 0.667401909828186, -2.1054351329803467, -2.1091508865356445, 2.090672731399536, 2.7833352088928223, 3.0460562705993652, -0.5451626181602478, -2.0671451091766357, -1.4968458414077759, 0.015495290979743004, -1.7766926288604736, 0.9186670780181885, 0.3709252178668976, 1.6021294593811035, -0.9552050828933716, -1.3802868127822876, -1.511339545249939, -0.8379676938056946, -0.2414744347333908, -1.2933269739151, 1.1681867837905884, -0.6857090592384338, 1.120473861694336, 0.8564504981040955, -0.9929178357124329, 1.4662039279937744, 0.6074405312538147, 3.4813597202301025, 2.0405983924865723, -0.1516895741224289, 1.1850101947784424, 1.276577115058899, 0.2828454077243805, 2.9260098934173584, 0.1702047884464264, -1.630398154258728, -0.1892080307006836, 1.676567792892456, 0.2995513677597046, -0.5231097340583801, 1.0159399509429932, -0.17645521461963654, 0.08178838342428207, 1.3077994585037231, 1.0472935438156128, 0.6993330121040344, -0.5266473889350891, -1.287886381149292, -0.2928211987018585, -1.10073721408844, -0.7085420489311218, 1.7872370481491089, -0.4798550307750702, -3.817735433578491, -0.5814374089241028, 0.35330796241760254, 0.10765139013528824, 9.570022583007812, 0.9178264141082764, 0.8767179250717163, 0.7789469361305237, -0.4478718042373657, -0.18587422370910645, 0.19859232008457184, -1.6753735542297363, 1.3275856971740723, -1.4111071825027466, -2.3141651153564453, 2.7912018299102783, -1.7108831405639648, -2.399003744125366, -0.058383725583553314, 2.4150643348693848, 0.6359063982963562, 0.6165269613265991, 0.24543581902980804, -3.429039716720581, 0.5617784261703491, 0.7886343002319336, -0.8304954767227173, 1.0500779151916504, -0.4351595342159271, 0.0997062548995018, -5.530031204223633, -1.4794871807098389, -0.4865410029888153, 0.20622113347053528, -1.324784517288208, 2.0787320137023926, -0.3412441313266754, -0.5822402834892273, -0.9949244856834412, -1.0072636604309082, 0.2993963658809662, -0.6803712248802185, 0.5932319760322571, 0.11125919222831726, -1.799924373626709, 1.084049940109253, -0.49756506085395813, 1.0122721195220947, -2.575526237487793, 0.06999406218528748, -0.34644052386283875, 0.35693487524986267, -2.2374091148376465, 2.2290756702423096, -0.6500632166862488, 1.1973414421081543, -1.3870038986206055, 0.9843193888664246, 1.3330330848693848, -0.9632158279418945, 0.3107174038887024, -1.0613566637039185, -0.5478614568710327, -0.9957674145698547, -3.235116958618164, 0.6489153504371643, 1.9094895124435425, -0.7242507338523865, 0.9655007719993591, 2.674424409866333, 1.3958747386932373, 0.4873494505882263, 0.031818047165870667, -2.220682144165039, -0.4050523042678833, 0.4237477779388428, 1.050083041191101, -1.8404934406280518, -0.8979754447937012, -3.6064627170562744, 0.9953516125679016, -0.28292736411094666, 1.5717933177947998, -1.404754877090454, -1.5692641735076904, -1.615400791168213, 1.2237403392791748, -0.5009638071060181, 0.7837393283843994, 1.2626360654830933, 1.5931702852249146, 0.10600356757640839, 0.7065674662590027, 0.3837405741214752, 1.3439693450927734, -1.650170087814331, -0.7869011759757996, 2.93383526802063, -0.07971344143152237, -2.3924496173858643, 1.84186589717865, 0.8398826718330383, -1.9955458641052246, -2.4681622982025146, -3.235626459121704, 3.4503173828125, -1.3928813934326172, 0.3301450312137604, -0.9237564206123352, 0.4286297857761383, -0.04336603358387947, -1.1052895784378052, -0.21445728838443756, 0.7140860557556152, -1.8591160774230957, 2.3915324211120605, -0.023023061454296112, -0.6761893033981323, -0.984555184841156, 0.7386682629585266, -0.40873003005981445, -3.6894326210021973, 0.9361326098442078, -2.5279622077941895, -0.8515328764915466, -2.377332925796509, -1.585768461227417, 1.142311453819275, -0.5403696894645691, 0.7786401510238647, -0.7918041944503784, 2.0527257919311523, -1.1590924263000488, 0.06751219928264618, 0.6021007895469666, 1.6171491146087646, -1.9432278871536255, 1.3348307609558105, -1.000543236732483, -0.14896109700202942, -3.309333086013794, -0.4776328206062317, -1.2871723175048828, 0.17668700218200684, 1.6543785333633423, 2.963355779647827, -1.177793264389038, -1.8655048608779907, -2.4096078872680664, -1.186720371246338, 1.2836915254592896, -4.551621913909912, 0.6410437822341919, 0.2742621600627899, -1.4690468311309814, 0.5651118159294128, -1.6905885934829712, -1.379774570465088, -1.5105020999908447, 1.5808733701705933, -1.5606250762939453, 0.49971675872802734, 2.677104949951172, -1.6115127801895142, -0.4332714378833771, -1.5502277612686157, -1.3150944709777832, 0.34503233432769775, 3.781262159347534, 1.0642967224121094, 1.6986210346221924, 0.2821429669857025, -0.00661203870549798, -2.152836799621582, 1.9530577659606934, 0.6407912373542786, 1.8854900598526, 1.146397352218628, -5.469421863555908, -0.4691949486732483, 1.6515183448791504, -1.1090728044509888, -0.8240461945533752, -0.14197169244289398, -0.3174780011177063, -0.21363484859466553, 0.8399795293807983, 3.289454460144043, -0.8501182198524475, 0.7498117089271545, 0.582452118396759, -0.5053744316101074, -2.8027853965759277, -0.2836090326309204, -1.4580984115600586, -0.4040091633796692, -0.007877740077674389, -1.216277003288269, -1.3187243938446045, 0.40261968970298767, 0.8159606456756592, 1.3745137453079224, -0.48712918162345886, -0.39546096324920654, -1.5200047492980957, 1.4251155853271484, -0.5872234106063843, 2.712301731109619, 0.3617120087146759, -0.6731532216072083, 1.5545616149902344, 1.0640736818313599, 1.1028820276260376, 0.8579384088516235, -0.06663881242275238, 1.6667219400405884, -0.022963445633649826, 1.5891430377960205, 1.137810468673706, -0.3062494099140167, 2.080674409866333, 0.021760674193501472, -0.5683093667030334, 1.984391689300537, 1.0391461849212646, -1.427331805229187, -0.0832999125123024, 0.6311540603637695, -0.9291338324546814, 3.442641258239746, -0.8164162635803223, -0.16846933960914612, -0.8724595308303833, -0.20854651927947998, 0.36469021439552307, -0.4337748885154724, -0.7405188083648682, -3.345040798187256, -3.3372514247894287, 1.6055670976638794, 1.278934121131897, 0.6023873686790466, 1.1740282773971558, 0.9231008291244507, -0.2619280219078064, -0.477512925863266, 0.9862027168273926, 1.9570131301879883, 1.6086328029632568, -1.6495262384414673]), {'id': 0, 'tile': 1, 'geometry': 2, 'embedding': 3})\n",
      "Row((21319496796950462, '36MWD', 'POINT(33.4093251004481 -1.54795745632247)', [4.546841144561768, -0.23634198307991028, 1.1210383176803589, 1.4850693941116333, 1.4764914512634277, -2.1474385261535645, 3.643496513366699, -0.5631640553474426, 3.5169873237609863, 1.3253049850463867, 1.5539144277572632, -1.4770848751068115, -0.7196580767631531, -0.31142622232437134, -0.43392640352249146, 0.5750716924667358, 0.5534818172454834, 0.02587415836751461, -2.5718157291412354, 2.1228015422821045, 1.9886080026626587, 0.3121090531349182, 1.2985540628433228, -2.9617905616760254, -0.5410347580909729, 0.6693774461746216, 0.6496464014053345, 0.9528205990791321, -1.1526139974594116, 2.5273220539093018, -1.261414885520935, -0.7634784579277039, -2.213625192642212, 0.8047807216644287, -0.9216712117195129, -1.9612067937850952, 0.11983469128608704, 0.8417624235153198, 0.21898595988750458, 0.5888179540634155, -0.13891710340976715, -0.8103852272033691, -1.7498645782470703, -2.573812961578369, 0.4104076027870178, 2.6742095947265625, 0.14217928051948547, -0.09052237123250961, 0.32316288352012634, 1.5532745122909546, -0.12928515672683716, 2.6894054412841797, 0.5671983361244202, -1.3515973091125488, -3.5510780811309814, -1.2165683507919312, 2.0244152545928955, -0.8237653374671936, 0.026565629988908768, -1.1622905731201172, -2.031529188156128, -1.5802078247070312, 1.3018858432769775, -0.2961944341659546, 1.8421612977981567, -0.8643741011619568, -0.11787756532430649, -2.6676766872406006, -0.31711599230766296, -1.793307900428772, 1.0531021356582642, 1.7778817415237427, 0.8858917951583862, 0.6954121589660645, 1.5703047513961792, -3.5953683853149414, -0.9997096061706543, 0.9243543148040771, -2.4715797901153564, -5.4369282722473145, -0.6191362738609314, 0.9252095818519592, -2.5857722759246826, -1.9252259731292725, 2.1861441135406494, 2.416100263595581, 3.400395393371582, -0.8555530309677124, -1.3386000394821167, -2.127232313156128, 0.21710912883281708, -1.6778006553649902, 1.3041571378707886, 0.8920610547065735, 0.6335529088973999, -1.9561227560043335, -1.0001460313796997, -1.820756435394287, -0.33818528056144714, 0.36420801281929016, -0.9370641112327576, 1.4177677631378174, -0.7907915711402893, 1.238900065422058, 1.5809669494628906, -0.1569354087114334, 0.8217650055885315, 0.2920360565185547, 3.6185264587402344, 1.7647124528884888, 0.40047523379325867, 1.0277774333953857, 1.0763721466064453, 0.8034785389900208, 2.4369702339172363, 0.3924570083618164, -2.353588104248047, -0.30579516291618347, 1.5824236869812012, 0.6844779849052429, -0.46300312876701355, 0.9192928671836853, 0.10002750903367996, 0.0727691799402237, 0.5667094588279724, 1.044905662536621, 0.5299765467643738, -1.9507694244384766, -0.8564697504043579, -0.22401908040046692, -1.239730954170227, -1.2019963264465332, 1.6974236965179443, -0.2907414436340332, -3.444891929626465, 0.37307900190353394, 0.1354677826166153, 0.12372731417417526, 9.25647258758545, 0.3442898690700531, 0.7091588973999023, 0.8540436029434204, 0.13522103428840637, 0.09573092311620712, 1.0528357028961182, -1.714313268661499, 1.5596086978912354, -0.7424941658973694, -2.0117859840393066, 3.66247296333313, -1.2814019918441772, -2.548858165740967, -0.39925792813301086, 2.613581895828247, 0.9880166053771973, 0.9654890298843384, 1.1646093130111694, -3.3444695472717285, 1.024080514907837, 0.644004225730896, -0.8315379619598389, 2.719303846359253, -0.14855557680130005, 0.5510493516921997, -4.972654819488525, -1.7999317646026611, -0.4760707914829254, 0.0007328057545237243, -1.1805813312530518, 2.9604508876800537, -0.7053996324539185, -0.21700794994831085, 0.3830192983150482, -0.4910328686237335, 0.8414991497993469, -0.8106630444526672, 1.5171632766723633, 0.16161538660526276, -1.3602656126022339, 0.6285130977630615, -1.132829189300537, 0.9097627401351929, -2.063642740249634, 0.08313380926847458, -0.10979950428009033, 0.38186341524124146, -2.251950263977051, 2.0784213542938232, -1.424046516418457, 1.8402494192123413, -1.5846905708312988, 0.2380349189043045, 0.4664994776248932, -1.5652087926864624, 0.6487478613853455, -0.55973881483078, -0.25597846508026123, -0.6848934292793274, -2.9039359092712402, 0.33373764157295227, 0.6691378951072693, -0.406832754611969, 1.3779467344284058, 2.0126841068267822, 1.7983858585357666, 0.470414936542511, 0.20638246834278107, -2.027973175048828, -0.9700918197631836, 0.5628577470779419, 0.5793266296386719, -2.719233512878418, 0.05811729282140732, -3.5765798091888428, 0.1627093404531479, -0.337140828371048, 1.4176162481307983, -1.4679486751556396, -2.8100249767303467, -0.8200560212135315, 1.87803053855896, -1.488524079322815, 0.4981529116630554, 0.48418164253234863, 1.5585505962371826, -0.12763723731040955, -0.00022070386330597103, 0.713868260383606, 1.2479066848754883, -2.1758697032928467, -0.42570021748542786, 2.6552393436431885, 0.36633414030075073, -1.7666364908218384, 0.9529332518577576, 0.3359087407588959, -1.9143378734588623, -2.4654273986816406, -3.504835367202759, 3.3223788738250732, -1.7966896295547485, 0.15780983865261078, -0.6520216464996338, 0.39344409108161926, -0.3602394461631775, -0.9659700393676758, 0.3829241394996643, -0.06047549843788147, -1.661799430847168, 1.9992091655731201, -0.3061964511871338, -1.442413091659546, -0.6580952405929565, 1.7900471687316895, -0.5283351540565491, -4.457157611846924, 0.8237931132316589, -2.0828514099121094, -0.6551368832588196, -2.2831454277038574, -1.7514452934265137, 0.4112774729728699, -1.600058674812317, 0.9455350041389465, -1.401161551475525, 2.1834700107574463, -1.160778284072876, 0.5666108131408691, 0.7634139657020569, 1.531801700592041, -2.4529097080230713, 0.4470652937889099, -1.2300763130187988, -0.5504156947135925, -3.477216958999634, 0.03018707036972046, -0.7270525097846985, -0.6632397770881653, 1.4444550275802612, 3.1595232486724854, -0.7566037774085999, -2.573038101196289, -2.198212146759033, -0.8942128419876099, 2.14340877532959, -5.545015335083008, 0.17072801291942596, 0.10769762098789215, -1.2783772945404053, 0.6183480620384216, -1.0360147953033447, -1.953931450843811, -0.8083527088165283, 1.7173107862472534, -1.4886081218719482, -0.44079285860061646, 3.2309985160827637, -1.7340788841247559, 0.11600247025489807, -1.5911651849746704, -1.7517999410629272, 0.7693986296653748, 3.9527742862701416, 1.5576856136322021, 2.1347153186798096, 0.25007715821266174, -0.49386584758758545, -2.2438175678253174, 1.845552682876587, 0.578005850315094, 2.4985456466674805, 1.014522671699524, -5.156558990478516, -0.47004416584968567, 1.7429141998291016, -0.8920596241950989, -0.7112057209014893, -0.7555405497550964, -0.836326539516449, -0.5394336581230164, 0.46792343258857727, 3.4755825996398926, -0.5369011759757996, 0.4094707667827606, 0.6224793195724487, -1.4070972204208374, -2.9786291122436523, -0.894895076751709, -1.662361741065979, 0.0185575969517231, -0.4123225212097168, -2.0111489295959473, -1.0274447202682495, 0.9136368632316589, 1.9494783878326416, 1.2143845558166504, 0.46183305978775024, -0.8976285457611084, -2.131225824356079, 1.355736255645752, -1.0000126361846924, 3.9778709411621094, 0.8724557757377625, -0.9483742117881775, 1.2261875867843628, 1.370108723640442, 1.0710111856460571, 0.573636531829834, -0.33957213163375854, 1.5334951877593994, 0.2872399687767029, 1.0696557760238647, 0.027530837804079056, -0.8500183820724487, 2.795790433883667, -0.46019136905670166, -0.1866988241672516, 1.3719029426574707, 0.7393867373466492, -1.1068929433822632, -0.08823990821838379, 0.8389809131622314, -0.8076514601707458, 3.09371018409729, -0.3782278597354889, -0.011143699288368225, -0.2671257257461548, -0.07686582952737808, -0.5517085790634155, -0.3531816601753235, -1.0778281688690186, -2.701676368713379, -3.2890031337738037, 0.8968580961227417, 1.8474174737930298, 0.15655525028705597, 1.1165417432785034, 1.148232340812683, -0.4288480281829834, -0.41649261116981506, 0.8998587131500244, 2.234912157058716, 1.8061342239379883, -1.0465359687805176]), {'id': 0, 'tile': 1, 'geometry': 2, 'embedding': 3})\n",
      "Row((21320723848417326, '36MWD', 'POINT(33.0354632587859 -1.34530007346131)', [3.69214129447937, -0.3198414742946625, 2.2916715145111084, 0.6675748825073242, 1.2367725372314453, -1.3916689157485962, 3.708766460418701, -0.29310426115989685, 2.873894453048706, 1.795896291732788, 2.218193292617798, -3.5396111011505127, 0.46677735447883606, 0.39056840538978577, -1.6466063261032104, 0.1731843203306198, 0.029616571962833405, 0.3475894033908844, -2.559279441833496, 2.740091562271118, 1.3488860130310059, -0.22665442526340485, 1.8414254188537598, -2.380288600921631, -0.1299782693386078, 0.6796789765357971, 0.4617326557636261, -0.4644821882247925, -0.5786963105201721, 4.47002649307251, -1.457811713218689, -1.513306975364685, -2.1999380588531494, 1.4045697450637817, -1.7809749841690063, -0.6564910411834717, -1.095260500907898, -0.9664849042892456, 1.048759937286377, 0.4583001732826233, -0.7307854890823364, -0.6539518237113953, -0.18453951179981232, -1.3761608600616455, 0.34811830520629883, 2.8456780910491943, 2.114652156829834, -0.379275918006897, -0.4757657051086426, 0.7326062321662903, 0.5616428256034851, 2.4336495399475098, -1.4822968244552612, -1.7783913612365723, -4.776980400085449, -0.10689351707696915, 2.697711229324341, 0.13794206082820892, -2.3268473148345947, -0.17290456593036652, -0.7978987097740173, -1.7565279006958008, 2.5412425994873047, -0.5543661117553711, 2.4582719802856445, 0.3823760449886322, -2.3437647819519043, -3.0184993743896484, -0.2689773738384247, -0.5117747187614441, -0.7562775611877441, 1.288710594177246, 1.4660197496414185, -0.33702659606933594, 0.8185033798217773, -2.584811210632324, 0.8213631510734558, 0.38348570466041565, -1.6495792865753174, -5.499718189239502, -1.0271323919296265, 1.5066064596176147, -4.636276721954346, -1.3194957971572876, 1.9093186855316162, 2.7621829509735107, 1.9813226461410522, -1.938536286354065, -0.4060070216655731, -3.44883131980896, -0.4983217120170593, -2.898594856262207, 1.7939033508300781, -0.2952776551246643, 0.6673391461372375, -0.26779904961586, -1.7278145551681519, 0.2024613916873932, -0.7148313522338867, -1.1892437934875488, -2.042226552963257, 2.339486837387085, -1.2098897695541382, 0.17157846689224243, -0.4122447669506073, -0.06834165006875992, 1.8120505809783936, -0.4277500510215759, 3.137280225753784, 2.168712854385376, -1.136492133140564, -0.22354039549827576, 1.487184762954712, 1.695343255996704, 3.0393221378326416, -0.17113365232944489, -0.773871660232544, -1.277311086654663, 0.6144967675209045, 0.5258929133415222, 0.027283305302262306, 1.5319448709487915, 0.92048180103302, -0.7217071652412415, 0.1731194257736206, 1.8796049356460571, -0.08653439581394196, -0.9028496742248535, 0.059787314385175705, 0.38984009623527527, 0.26749902963638306, -1.800734043121338, 2.122695207595825, -0.34330445528030396, -2.762986898422241, 0.4388076663017273, -0.3761703073978424, 0.15315532684326172, 8.60373306274414, 0.5216838121414185, 0.8820576667785645, -0.7866276502609253, -0.6612753868103027, 0.8919150233268738, -0.02274777926504612, -0.13766805827617645, 2.3640851974487305, -0.24350100755691528, -1.557621955871582, 2.6232638359069824, -0.9055543541908264, -2.5441510677337646, 0.06993947178125381, 3.8631582260131836, 2.403660297393799, 2.1452651023864746, -0.24875469505786896, -2.811267614364624, 1.4517247676849365, -0.5271961092948914, -0.597868025302887, 0.7671730518341064, -0.3628929555416107, 0.4686266779899597, -3.9053854942321777, -2.7045984268188477, -0.6795108318328857, -0.5617870688438416, -1.081933856010437, 1.5009095668792725, -0.06356377899646759, 0.41282176971435547, 1.236134648323059, -0.9210183024406433, 0.4632076025009155, -1.4228187799453735, 1.3811711072921753, 0.6521037817001343, -1.6097208261489868, 1.2101298570632935, -0.18913064897060394, 1.4227665662765503, -3.7603728771209717, -0.537300169467926, 0.04842935875058174, 1.201895833015442, -2.2002041339874268, 3.3836538791656494, -1.1347217559814453, 0.9914720058441162, -1.079199194908142, 0.5700306296348572, -0.17722851037979126, -1.8665857315063477, 1.3393080234527588, -0.2198297381401062, 1.276242733001709, 0.11971652507781982, -1.856142520904541, -0.6985594034194946, 0.6234003901481628, -0.637511670589447, 0.7647438645362854, 2.6164655685424805, 0.8750743269920349, 1.8271510601043701, -0.9233856201171875, -1.9551249742507935, -1.0828437805175781, 0.5344283580780029, 1.3805186748504639, -1.3950227499008179, -0.9550386667251587, -2.9128458499908447, 1.1361418962478638, 0.824199914932251, 1.3984724283218384, -1.093126654624939, -2.893266201019287, -2.42265248298645, 0.7238000631332397, -0.8785234093666077, 0.7763012051582336, 0.5833476185798645, 1.5314841270446777, 1.077591061592102, 0.6595951914787292, 0.6460728049278259, 0.38503462076187134, -1.4965993165969849, 0.9270169138908386, 1.6893415451049805, -1.2902370691299438, -3.1368789672851562, -0.3434946835041046, 1.883569359779358, -2.498446226119995, -0.526634931564331, -1.092468500137329, 2.381277084350586, -0.6783773303031921, 0.5645649433135986, -0.21822093427181244, 1.0229052305221558, 0.834551215171814, -1.6829193830490112, -0.10449507087469101, 0.45762068033218384, 0.14130716025829315, 3.0331926345825195, -0.4831101894378662, -1.9108490943908691, -0.03947734832763672, 0.8610235452651978, -0.03224123269319534, -4.1413445472717285, 0.4392296373844147, -1.2977944612503052, -0.5664830803871155, -2.006375312805176, -1.4860340356826782, 1.4682098627090454, -0.8401677012443542, 1.0033739805221558, -1.1778119802474976, 1.3252195119857788, -0.8400933146476746, 0.5466226935386658, -0.434476375579834, 1.22555410861969, -2.20108699798584, 0.8026995658874512, -0.7395681738853455, 0.4835938811302185, -4.1894850730896, 0.6939951181411743, -1.8968302011489868, -0.5965041518211365, 0.8212573528289795, 2.439605236053467, -0.738265872001648, -1.5768417119979858, -2.1450014114379883, -1.0549383163452148, 2.668421506881714, -4.829383373260498, 0.32091808319091797, 0.05014180392026901, -0.5188891887664795, 1.1911060810089111, -2.5314102172851562, -0.770704984664917, -1.3982092142105103, 0.8288623094558716, -1.6203330755233765, -0.8644827604293823, 2.1546645164489746, -1.6555862426757812, -0.9954115748405457, -0.8445212841033936, -1.2173000574111938, 0.5136590600013733, 3.0873169898986816, 1.1727488040924072, 1.2358405590057373, 0.5123854875564575, 0.011646056547760963, -0.9693881273269653, 1.2281004190444946, 0.6335771679878235, 2.3918020725250244, 1.9418781995773315, -5.716548919677734, -0.47157594561576843, 0.18478448688983917, -1.8347231149673462, -1.2307864427566528, 1.2685290575027466, 0.34609121084213257, 0.9659283757209778, -1.022579550743103, 2.488067150115967, -0.8021259903907776, 1.1837002038955688, -1.4164063930511475, -1.1528246402740479, -1.1084349155426025, -1.1361955404281616, -0.525418221950531, 0.4267587661743164, 1.4841248989105225, -0.8237956166267395, -2.1595470905303955, -1.2285360097885132, 0.8721351623535156, 1.0287116765975952, -0.5548902153968811, -0.19547761976718903, -2.2324812412261963, 0.38904333114624023, -0.31881967186927795, 3.546969175338745, 0.003948278725147247, 0.3646363615989685, 0.17605791985988617, 1.4775943756103516, -0.7670709490776062, 0.6325945258140564, 0.027696533128619194, 1.7629244327545166, -0.11739557981491089, 1.360997200012207, -0.5355947017669678, -0.41316571831703186, 2.2034847736358643, 0.11676836758852005, 1.129218578338623, 1.5863358974456787, 0.19634883105754852, -0.08209744840860367, 0.40798765420913696, 1.1622122526168823, 0.5177768468856812, 2.501833438873291, -0.15576386451721191, -1.6463556289672852, 0.11882525682449341, 0.08027909696102142, -0.6150354743003845, -1.2385389804840088, 0.9751419425010681, -3.0312888622283936, -1.4721726179122925, 2.1841845512390137, 1.392240285873413, -0.10015049576759338, 1.149551510810852, 1.4443097114562988, 0.9834228157997131, -1.4166465997695923, -0.051412783563137054, 2.3730568885803223, 1.0281494855880737, -0.7161375880241394]), {'id': 0, 'tile': 1, 'geometry': 2, 'embedding': 3})\n"
     ]
    }
   ],
   "source": [
    "# check the resulting table's schema and data \n",
    "query = f\"SELECT * FROM `{result_table}` LIMIT 10\"\n",
    "query_job = client.query(query)\n",
    "# print schema \n",
    "schema = query_job.result().schema\n",
    "for field in schema:\n",
    "    print(f\"{field.name}: {field.field_type}\")\n",
    "for row in query_job:\n",
    "    print(row)"
   ]
  },
  {
   "cell_type": "markdown",
   "id": "1f99bcf3",
   "metadata": {},
   "source": [
    "### Index BQ table to enable Vector Search"
   ]
  },
  {
   "cell_type": "code",
   "execution_count": 52,
   "id": "eb4a2621",
   "metadata": {},
   "outputs": [
    {
     "name": "stdout",
     "output_type": "stream",
     "text": [
      "indexing embeddings_kenya.earthgenome_kenya_v1 for vector search\n"
     ]
    },
    {
     "data": {
      "text/plain": [
       "<google.cloud.bigquery.table._EmptyRowIterator at 0x73e26ec38190>"
      ]
     },
     "execution_count": 52,
     "metadata": {},
     "output_type": "execute_result"
    }
   ],
   "source": [
    "# test VECTOR SEARCH operations\n",
    "in_table = '.'.join(result_table.split(\".\")[1:])\n",
    "print(f'indexing {in_table} for vector search')\n",
    "query = f\"\"\"\n",
    "CREATE VECTOR INDEX my_index ON {in_table}(embedding)\n",
    "OPTIONS(distance_type='COSINE', index_type='IVF', ivf_options='{{\"num_lists\": 1000}}');\n",
    "\"\"\"\n",
    "\n",
    "# Run the query to create the index\n",
    "client = bigquery.Client(project=PROJECT_ID)\n",
    "job = client.query(query)\n",
    "job.result()  # Wait for the job to complete"
   ]
  },
  {
   "cell_type": "markdown",
   "id": "4f64252b",
   "metadata": {},
   "source": [
    "Create a test target table of 1 record to perform vector search with"
   ]
  },
  {
   "cell_type": "code",
   "execution_count": 53,
   "id": "9904455b",
   "metadata": {},
   "outputs": [
    {
     "data": {
      "text/plain": [
       "<google.cloud.bigquery.table.RowIterator at 0x73e26ec382d0>"
      ]
     },
     "execution_count": 53,
     "metadata": {},
     "output_type": "execute_result"
    }
   ],
   "source": [
    "result_table = result_table+\"_test_target\"\n",
    "query = f\"SELECT * FROM {in_table} LIMIT 1\"\n",
    "\n",
    "job_config = bigquery.QueryJobConfig(destination=result_table)\n",
    "job = client.query(query,job_config=job_config)\n",
    "job.result()  # Wait for the job to complete"
   ]
  },
  {
   "cell_type": "markdown",
   "id": "2d2a465d",
   "metadata": {},
   "source": [
    "Run a Vector Search!"
   ]
  },
  {
   "cell_type": "code",
   "execution_count": 54,
   "id": "e769af4b",
   "metadata": {},
   "outputs": [
    {
     "name": "stdout",
     "output_type": "stream",
     "text": [
      "embeddings_kenya.earthgenome_kenya_v1_test_target\n"
     ]
    },
    {
     "data": {
      "text/plain": [
       "<google.cloud.bigquery.table.RowIterator at 0x73e26ec38690>"
      ]
     },
     "execution_count": 54,
     "metadata": {},
     "output_type": "execute_result"
    }
   ],
   "source": [
    "import datetime\n",
    "target_table = '.'.join(result_table.split(\".\")[1:])\n",
    "print(target_table)\n",
    "query = f\"\"\"\n",
    "SELECT query.id AS target_id,\n",
    "  query.tile AS target_tile,\n",
    "  base.id AS base_id,\n",
    "  base.tile AS base_tile,\n",
    "  distance\n",
    "FROM\n",
    "  VECTOR_SEARCH(\n",
    "    TABLE {in_table},\n",
    "    'embedding',\n",
    "    TABLE {target_table},\n",
    "    top_k => 11,\n",
    "    distance_type => 'COSINE',\n",
    "    options => '{{\"fraction_lists_to_search\": 0.005}}')\n",
    "ORDER BY distance\n",
    "LIMIT 10\n",
    "OFFSET 1;\n",
    "\"\"\"\n",
    "\n",
    "# Run the query to create the index\n",
    "client = bigquery.Client(project=PROJECT_ID)\n",
    "search_result_table = f\"{PROJECT_ID}.{DATASET_ID}.vector_search_results_{datetime.datetime.now().strftime('%Y%m%d_%H%M%S')}\"\n",
    "job_config = bigquery.QueryJobConfig(destination=search_result_table)\n",
    "job = client.query(query,job_config=job_config)\n",
    "job.result()  # Wait for the job to complete"
   ]
  },
  {
   "cell_type": "code",
   "execution_count": 55,
   "id": "547b3571",
   "metadata": {},
   "outputs": [
    {
     "name": "stdout",
     "output_type": "stream",
     "text": [
      "target_id: INTEGER\n",
      "target_tile: STRING\n",
      "base_id: INTEGER\n",
      "base_tile: STRING\n",
      "distance: FLOAT\n",
      "Row((21366417132058520, '36MWD', 21366407109274221, '36MWD', 0.007518227532904431), {'target_id': 0, 'target_tile': 1, 'base_id': 2, 'base_tile': 3, 'distance': 4})\n",
      "Row((21366417132058520, '36MWD', 21366523674059601, '36MXD', 0.008048853362623731), {'target_id': 0, 'target_tile': 1, 'base_id': 2, 'base_tile': 3, 'distance': 4})\n",
      "Row((21366417132058520, '36MWD', 21366417109700061, '36MWD', 0.008368872203980748), {'target_id': 0, 'target_tile': 1, 'base_id': 2, 'base_tile': 3, 'distance': 4})\n",
      "Row((21366417132058520, '36MWD', 21366425136559033, '36MWD', 0.008518929140563403), {'target_id': 0, 'target_tile': 1, 'base_id': 2, 'base_tile': 3, 'distance': 4})\n",
      "Row((21366417132058520, '36MWD', 21368022179282379, '36MXD', 0.009059108625534273), {'target_id': 0, 'target_tile': 1, 'base_id': 2, 'base_tile': 3, 'distance': 4})\n",
      "Row((21366417132058520, '36MWD', 21366436235634204, '36MWD', 0.009121250886910293), {'target_id': 0, 'target_tile': 1, 'base_id': 2, 'base_tile': 3, 'distance': 4})\n",
      "Row((21366417132058520, '36MWD', 21366401380410769, '36MWD', 0.009335395545394087), {'target_id': 0, 'target_tile': 1, 'base_id': 2, 'base_tile': 3, 'distance': 4})\n",
      "Row((21366417132058520, '36MWD', 21367913723918865, '36MWD', 0.009920304133692492), {'target_id': 0, 'target_tile': 1, 'base_id': 2, 'base_tile': 3, 'distance': 4})\n",
      "Row((21366417132058520, '36MWD', 21366425132349369, '36MWD', 0.010350289036907934), {'target_id': 0, 'target_tile': 1, 'base_id': 2, 'base_tile': 3, 'distance': 4})\n",
      "Row((21366417132058520, '36MWD', 21366423637294266, '36MWD', 0.010356394718251671), {'target_id': 0, 'target_tile': 1, 'base_id': 2, 'base_tile': 3, 'distance': 4})\n"
     ]
    }
   ],
   "source": [
    "query = f\"SELECT * FROM `{search_result_table}` LIMIT 10\"\n",
    "query_job = client.query(query)\n",
    "# print schema \n",
    "schema = query_job.result().schema\n",
    "for field in schema:\n",
    "    print(f\"{field.name}: {field.field_type}\")\n",
    "for row in query_job:\n",
    "    print(row)"
   ]
  },
  {
   "cell_type": "markdown",
   "id": "84b3d1a6",
   "metadata": {},
   "source": [
    "### You can take a look at your newly created BQ tables and the vector search results in [BQ studio](https://console.cloud.google.com/bigquery)"
   ]
  }
 ],
 "metadata": {
  "kernelspec": {
   "display_name": "ee",
   "language": "python",
   "name": "python3"
  },
  "language_info": {
   "codemirror_mode": {
    "name": "ipython",
    "version": 3
   },
   "file_extension": ".py",
   "mimetype": "text/x-python",
   "name": "python",
   "nbconvert_exporter": "python",
   "pygments_lexer": "ipython3",
   "version": "3.13.3"
  }
 },
 "nbformat": 4,
 "nbformat_minor": 5
}
